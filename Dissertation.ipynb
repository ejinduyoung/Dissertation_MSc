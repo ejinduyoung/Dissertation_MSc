{
 "cells": [
  {
   "cell_type": "code",
   "execution_count": 1,
   "id": "2e0c1357-ebc7-4cf1-bd34-a4f2840e3753",
   "metadata": {},
   "outputs": [],
   "source": [
    "import pandas as pd\n",
    "# Import necessary packages.!pip install torch\n",
    "import numpy as np\n",
    "from PIL import Image\n",
    "\n",
    "import torch\n",
    "import torch.nn as nn\n",
    "from torch.utils.data import random_split\n",
    "from torch.utils.data import DataLoader, Subset\n",
    "\n",
    "import torchvision\n",
    "from torchvision import datasets\n",
    "from torchvision.datasets import DatasetFolder\n",
    "import torchvision.transforms as transforms\n",
    "# This is for the progress bar.\n",
    "from tqdm.auto import tqdm\n",
    "# This is for ploting\n",
    "import matplotlib.pyplot as plt"
   ]
  },
  {
   "cell_type": "code",
   "execution_count": 2,
   "id": "1dd596ae-a40b-4ae8-b374-c0b7ec83f342",
   "metadata": {},
   "outputs": [
    {
     "name": "stderr",
     "output_type": "stream",
     "text": [
      "ERROR: Could not find a version that satisfies the requirement cudatoolkit (from versions: none)\n",
      "ERROR: No matching distribution found for cudatoolkit\n"
     ]
    }
   ],
   "source": [
    "# Install a package to download data from Kaggle\n",
    "!pip install -q opendatasets\n",
    "!pip install --upgrade cudatoolkit"
   ]
  },
  {
   "cell_type": "code",
   "execution_count": 3,
   "id": "4ec4cd50-6a78-4347-919c-4b5f02d7c69d",
   "metadata": {},
   "outputs": [],
   "source": [
    "import opendatasets as od"
   ]
  },
  {
   "cell_type": "markdown",
   "id": "d784ddf5-11ca-4ae9-a065-c834f0d8d716",
   "metadata": {},
   "source": [
    "# Read in the dataset and split\n",
    "Using the ground truth metadata, the dataset will be split into their appropriate classes"
   ]
  },
  {
   "cell_type": "code",
   "execution_count": 4,
   "id": "da0a9036-5430-4b7a-9d7b-0b34433358e6",
   "metadata": {},
   "outputs": [],
   "source": [
    "import torch\n",
    "from torchvision import datasets, transforms\n",
    "from torch.utils.data import DataLoader, WeightedRandomSampler\n",
    "\n",
    "# Define your transforms for train and test datasets\n",
    "train_transform = transforms.Compose([\n",
    "    transforms.Resize((224, 224)),  # Resize images to the same size\n",
    "    transforms.ToTensor(),\n",
    "    # Add more transforms if needed\n",
    "])\n",
    "\n",
    "test_transform = transforms.Compose([\n",
    "    transforms.Resize((224, 224)),  # Resize images to the same size\n",
    "    transforms.ToTensor(),\n",
    "    # Add more transforms if needed\n",
    "])\n",
    "\n",
    "raw_train_path = \"OneDrive/Downloads/Deep learning/datasets/isic_2019_train_raw\"\n",
    "train_meta_data_path = \"OneDrive/Downloads/Deep learning/datasets/ISIC_2019_Training_GroundTruth.csv\"\n",
    "test_meta_data_path = \"OneDrive/Downloads/Deep learning/datasets/\"\n",
    "train_raw = datasets.ImageFolder(raw_train_path, transform=train_transform)"
   ]
  },
  {
   "cell_type": "code",
   "execution_count": 5,
   "id": "e3cc4e78-0e4e-463c-910e-f7733cbb96c4",
   "metadata": {},
   "outputs": [
    {
     "data": {
      "text/html": [
       "<div>\n",
       "<style scoped>\n",
       "    .dataframe tbody tr th:only-of-type {\n",
       "        vertical-align: middle;\n",
       "    }\n",
       "\n",
       "    .dataframe tbody tr th {\n",
       "        vertical-align: top;\n",
       "    }\n",
       "\n",
       "    .dataframe thead th {\n",
       "        text-align: right;\n",
       "    }\n",
       "</style>\n",
       "<table border=\"1\" class=\"dataframe\">\n",
       "  <thead>\n",
       "    <tr style=\"text-align: right;\">\n",
       "      <th></th>\n",
       "      <th>image</th>\n",
       "      <th>MEL</th>\n",
       "      <th>NV</th>\n",
       "      <th>BCC</th>\n",
       "      <th>AK</th>\n",
       "      <th>BKL</th>\n",
       "      <th>DF</th>\n",
       "      <th>VASC</th>\n",
       "      <th>SCC</th>\n",
       "      <th>UNK</th>\n",
       "    </tr>\n",
       "  </thead>\n",
       "  <tbody>\n",
       "    <tr>\n",
       "      <th>0</th>\n",
       "      <td>ISIC_0000000</td>\n",
       "      <td>0.0</td>\n",
       "      <td>1.0</td>\n",
       "      <td>0.0</td>\n",
       "      <td>0.0</td>\n",
       "      <td>0.0</td>\n",
       "      <td>0.0</td>\n",
       "      <td>0.0</td>\n",
       "      <td>0.0</td>\n",
       "      <td>0.0</td>\n",
       "    </tr>\n",
       "    <tr>\n",
       "      <th>1</th>\n",
       "      <td>ISIC_0000001</td>\n",
       "      <td>0.0</td>\n",
       "      <td>1.0</td>\n",
       "      <td>0.0</td>\n",
       "      <td>0.0</td>\n",
       "      <td>0.0</td>\n",
       "      <td>0.0</td>\n",
       "      <td>0.0</td>\n",
       "      <td>0.0</td>\n",
       "      <td>0.0</td>\n",
       "    </tr>\n",
       "    <tr>\n",
       "      <th>2</th>\n",
       "      <td>ISIC_0000002</td>\n",
       "      <td>1.0</td>\n",
       "      <td>0.0</td>\n",
       "      <td>0.0</td>\n",
       "      <td>0.0</td>\n",
       "      <td>0.0</td>\n",
       "      <td>0.0</td>\n",
       "      <td>0.0</td>\n",
       "      <td>0.0</td>\n",
       "      <td>0.0</td>\n",
       "    </tr>\n",
       "    <tr>\n",
       "      <th>3</th>\n",
       "      <td>ISIC_0000003</td>\n",
       "      <td>0.0</td>\n",
       "      <td>1.0</td>\n",
       "      <td>0.0</td>\n",
       "      <td>0.0</td>\n",
       "      <td>0.0</td>\n",
       "      <td>0.0</td>\n",
       "      <td>0.0</td>\n",
       "      <td>0.0</td>\n",
       "      <td>0.0</td>\n",
       "    </tr>\n",
       "    <tr>\n",
       "      <th>4</th>\n",
       "      <td>ISIC_0000004</td>\n",
       "      <td>1.0</td>\n",
       "      <td>0.0</td>\n",
       "      <td>0.0</td>\n",
       "      <td>0.0</td>\n",
       "      <td>0.0</td>\n",
       "      <td>0.0</td>\n",
       "      <td>0.0</td>\n",
       "      <td>0.0</td>\n",
       "      <td>0.0</td>\n",
       "    </tr>\n",
       "    <tr>\n",
       "      <th>...</th>\n",
       "      <td>...</td>\n",
       "      <td>...</td>\n",
       "      <td>...</td>\n",
       "      <td>...</td>\n",
       "      <td>...</td>\n",
       "      <td>...</td>\n",
       "      <td>...</td>\n",
       "      <td>...</td>\n",
       "      <td>...</td>\n",
       "      <td>...</td>\n",
       "    </tr>\n",
       "    <tr>\n",
       "      <th>25326</th>\n",
       "      <td>ISIC_0073247</td>\n",
       "      <td>0.0</td>\n",
       "      <td>0.0</td>\n",
       "      <td>1.0</td>\n",
       "      <td>0.0</td>\n",
       "      <td>0.0</td>\n",
       "      <td>0.0</td>\n",
       "      <td>0.0</td>\n",
       "      <td>0.0</td>\n",
       "      <td>0.0</td>\n",
       "    </tr>\n",
       "    <tr>\n",
       "      <th>25327</th>\n",
       "      <td>ISIC_0073248</td>\n",
       "      <td>0.0</td>\n",
       "      <td>0.0</td>\n",
       "      <td>0.0</td>\n",
       "      <td>0.0</td>\n",
       "      <td>1.0</td>\n",
       "      <td>0.0</td>\n",
       "      <td>0.0</td>\n",
       "      <td>0.0</td>\n",
       "      <td>0.0</td>\n",
       "    </tr>\n",
       "    <tr>\n",
       "      <th>25328</th>\n",
       "      <td>ISIC_0073249</td>\n",
       "      <td>1.0</td>\n",
       "      <td>0.0</td>\n",
       "      <td>0.0</td>\n",
       "      <td>0.0</td>\n",
       "      <td>0.0</td>\n",
       "      <td>0.0</td>\n",
       "      <td>0.0</td>\n",
       "      <td>0.0</td>\n",
       "      <td>0.0</td>\n",
       "    </tr>\n",
       "    <tr>\n",
       "      <th>25329</th>\n",
       "      <td>ISIC_0073251</td>\n",
       "      <td>0.0</td>\n",
       "      <td>1.0</td>\n",
       "      <td>0.0</td>\n",
       "      <td>0.0</td>\n",
       "      <td>0.0</td>\n",
       "      <td>0.0</td>\n",
       "      <td>0.0</td>\n",
       "      <td>0.0</td>\n",
       "      <td>0.0</td>\n",
       "    </tr>\n",
       "    <tr>\n",
       "      <th>25330</th>\n",
       "      <td>ISIC_0073254</td>\n",
       "      <td>0.0</td>\n",
       "      <td>0.0</td>\n",
       "      <td>0.0</td>\n",
       "      <td>0.0</td>\n",
       "      <td>1.0</td>\n",
       "      <td>0.0</td>\n",
       "      <td>0.0</td>\n",
       "      <td>0.0</td>\n",
       "      <td>0.0</td>\n",
       "    </tr>\n",
       "  </tbody>\n",
       "</table>\n",
       "<p>25331 rows × 10 columns</p>\n",
       "</div>"
      ],
      "text/plain": [
       "              image  MEL   NV  BCC   AK  BKL   DF  VASC  SCC  UNK\n",
       "0      ISIC_0000000  0.0  1.0  0.0  0.0  0.0  0.0   0.0  0.0  0.0\n",
       "1      ISIC_0000001  0.0  1.0  0.0  0.0  0.0  0.0   0.0  0.0  0.0\n",
       "2      ISIC_0000002  1.0  0.0  0.0  0.0  0.0  0.0   0.0  0.0  0.0\n",
       "3      ISIC_0000003  0.0  1.0  0.0  0.0  0.0  0.0   0.0  0.0  0.0\n",
       "4      ISIC_0000004  1.0  0.0  0.0  0.0  0.0  0.0   0.0  0.0  0.0\n",
       "...             ...  ...  ...  ...  ...  ...  ...   ...  ...  ...\n",
       "25326  ISIC_0073247  0.0  0.0  1.0  0.0  0.0  0.0   0.0  0.0  0.0\n",
       "25327  ISIC_0073248  0.0  0.0  0.0  0.0  1.0  0.0   0.0  0.0  0.0\n",
       "25328  ISIC_0073249  1.0  0.0  0.0  0.0  0.0  0.0   0.0  0.0  0.0\n",
       "25329  ISIC_0073251  0.0  1.0  0.0  0.0  0.0  0.0   0.0  0.0  0.0\n",
       "25330  ISIC_0073254  0.0  0.0  0.0  0.0  1.0  0.0   0.0  0.0  0.0\n",
       "\n",
       "[25331 rows x 10 columns]"
      ]
     },
     "execution_count": 5,
     "metadata": {},
     "output_type": "execute_result"
    }
   ],
   "source": [
    "metadata = pd.read_csv(train_meta_data_path)\n",
    "metadata"
   ]
  },
  {
   "cell_type": "code",
   "execution_count": 6,
   "id": "81aad657-8f16-466b-8c41-3b4d940c4c8f",
   "metadata": {},
   "outputs": [
    {
     "data": {
      "text/html": [
       "<div>\n",
       "<style scoped>\n",
       "    .dataframe tbody tr th:only-of-type {\n",
       "        vertical-align: middle;\n",
       "    }\n",
       "\n",
       "    .dataframe tbody tr th {\n",
       "        vertical-align: top;\n",
       "    }\n",
       "\n",
       "    .dataframe thead th {\n",
       "        text-align: right;\n",
       "    }\n",
       "</style>\n",
       "<table border=\"1\" class=\"dataframe\">\n",
       "  <thead>\n",
       "    <tr style=\"text-align: right;\">\n",
       "      <th></th>\n",
       "      <th>image</th>\n",
       "      <th>MEL</th>\n",
       "      <th>NV</th>\n",
       "      <th>BCC</th>\n",
       "      <th>AK</th>\n",
       "      <th>BKL</th>\n",
       "      <th>DF</th>\n",
       "      <th>VASC</th>\n",
       "      <th>SCC</th>\n",
       "      <th>UNK</th>\n",
       "      <th>label</th>\n",
       "    </tr>\n",
       "  </thead>\n",
       "  <tbody>\n",
       "    <tr>\n",
       "      <th>0</th>\n",
       "      <td>ISIC_0000000</td>\n",
       "      <td>0.0</td>\n",
       "      <td>1.0</td>\n",
       "      <td>0.0</td>\n",
       "      <td>0.0</td>\n",
       "      <td>0.0</td>\n",
       "      <td>0.0</td>\n",
       "      <td>0.0</td>\n",
       "      <td>0.0</td>\n",
       "      <td>0.0</td>\n",
       "      <td>melanocytic nevus</td>\n",
       "    </tr>\n",
       "    <tr>\n",
       "      <th>1</th>\n",
       "      <td>ISIC_0000001</td>\n",
       "      <td>0.0</td>\n",
       "      <td>1.0</td>\n",
       "      <td>0.0</td>\n",
       "      <td>0.0</td>\n",
       "      <td>0.0</td>\n",
       "      <td>0.0</td>\n",
       "      <td>0.0</td>\n",
       "      <td>0.0</td>\n",
       "      <td>0.0</td>\n",
       "      <td>melanocytic nevus</td>\n",
       "    </tr>\n",
       "    <tr>\n",
       "      <th>2</th>\n",
       "      <td>ISIC_0000002</td>\n",
       "      <td>1.0</td>\n",
       "      <td>0.0</td>\n",
       "      <td>0.0</td>\n",
       "      <td>0.0</td>\n",
       "      <td>0.0</td>\n",
       "      <td>0.0</td>\n",
       "      <td>0.0</td>\n",
       "      <td>0.0</td>\n",
       "      <td>0.0</td>\n",
       "      <td>melanoma</td>\n",
       "    </tr>\n",
       "    <tr>\n",
       "      <th>3</th>\n",
       "      <td>ISIC_0000003</td>\n",
       "      <td>0.0</td>\n",
       "      <td>1.0</td>\n",
       "      <td>0.0</td>\n",
       "      <td>0.0</td>\n",
       "      <td>0.0</td>\n",
       "      <td>0.0</td>\n",
       "      <td>0.0</td>\n",
       "      <td>0.0</td>\n",
       "      <td>0.0</td>\n",
       "      <td>melanocytic nevus</td>\n",
       "    </tr>\n",
       "    <tr>\n",
       "      <th>4</th>\n",
       "      <td>ISIC_0000004</td>\n",
       "      <td>1.0</td>\n",
       "      <td>0.0</td>\n",
       "      <td>0.0</td>\n",
       "      <td>0.0</td>\n",
       "      <td>0.0</td>\n",
       "      <td>0.0</td>\n",
       "      <td>0.0</td>\n",
       "      <td>0.0</td>\n",
       "      <td>0.0</td>\n",
       "      <td>melanoma</td>\n",
       "    </tr>\n",
       "    <tr>\n",
       "      <th>...</th>\n",
       "      <td>...</td>\n",
       "      <td>...</td>\n",
       "      <td>...</td>\n",
       "      <td>...</td>\n",
       "      <td>...</td>\n",
       "      <td>...</td>\n",
       "      <td>...</td>\n",
       "      <td>...</td>\n",
       "      <td>...</td>\n",
       "      <td>...</td>\n",
       "      <td>...</td>\n",
       "    </tr>\n",
       "    <tr>\n",
       "      <th>25326</th>\n",
       "      <td>ISIC_0073247</td>\n",
       "      <td>0.0</td>\n",
       "      <td>0.0</td>\n",
       "      <td>1.0</td>\n",
       "      <td>0.0</td>\n",
       "      <td>0.0</td>\n",
       "      <td>0.0</td>\n",
       "      <td>0.0</td>\n",
       "      <td>0.0</td>\n",
       "      <td>0.0</td>\n",
       "      <td>basal cell carcinoma</td>\n",
       "    </tr>\n",
       "    <tr>\n",
       "      <th>25327</th>\n",
       "      <td>ISIC_0073248</td>\n",
       "      <td>0.0</td>\n",
       "      <td>0.0</td>\n",
       "      <td>0.0</td>\n",
       "      <td>0.0</td>\n",
       "      <td>1.0</td>\n",
       "      <td>0.0</td>\n",
       "      <td>0.0</td>\n",
       "      <td>0.0</td>\n",
       "      <td>0.0</td>\n",
       "      <td>benign keratosis</td>\n",
       "    </tr>\n",
       "    <tr>\n",
       "      <th>25328</th>\n",
       "      <td>ISIC_0073249</td>\n",
       "      <td>1.0</td>\n",
       "      <td>0.0</td>\n",
       "      <td>0.0</td>\n",
       "      <td>0.0</td>\n",
       "      <td>0.0</td>\n",
       "      <td>0.0</td>\n",
       "      <td>0.0</td>\n",
       "      <td>0.0</td>\n",
       "      <td>0.0</td>\n",
       "      <td>melanoma</td>\n",
       "    </tr>\n",
       "    <tr>\n",
       "      <th>25329</th>\n",
       "      <td>ISIC_0073251</td>\n",
       "      <td>0.0</td>\n",
       "      <td>1.0</td>\n",
       "      <td>0.0</td>\n",
       "      <td>0.0</td>\n",
       "      <td>0.0</td>\n",
       "      <td>0.0</td>\n",
       "      <td>0.0</td>\n",
       "      <td>0.0</td>\n",
       "      <td>0.0</td>\n",
       "      <td>melanocytic nevus</td>\n",
       "    </tr>\n",
       "    <tr>\n",
       "      <th>25330</th>\n",
       "      <td>ISIC_0073254</td>\n",
       "      <td>0.0</td>\n",
       "      <td>0.0</td>\n",
       "      <td>0.0</td>\n",
       "      <td>0.0</td>\n",
       "      <td>1.0</td>\n",
       "      <td>0.0</td>\n",
       "      <td>0.0</td>\n",
       "      <td>0.0</td>\n",
       "      <td>0.0</td>\n",
       "      <td>benign keratosis</td>\n",
       "    </tr>\n",
       "  </tbody>\n",
       "</table>\n",
       "<p>25331 rows × 11 columns</p>\n",
       "</div>"
      ],
      "text/plain": [
       "              image  MEL   NV  BCC   AK  BKL   DF  VASC  SCC  UNK  \\\n",
       "0      ISIC_0000000  0.0  1.0  0.0  0.0  0.0  0.0   0.0  0.0  0.0   \n",
       "1      ISIC_0000001  0.0  1.0  0.0  0.0  0.0  0.0   0.0  0.0  0.0   \n",
       "2      ISIC_0000002  1.0  0.0  0.0  0.0  0.0  0.0   0.0  0.0  0.0   \n",
       "3      ISIC_0000003  0.0  1.0  0.0  0.0  0.0  0.0   0.0  0.0  0.0   \n",
       "4      ISIC_0000004  1.0  0.0  0.0  0.0  0.0  0.0   0.0  0.0  0.0   \n",
       "...             ...  ...  ...  ...  ...  ...  ...   ...  ...  ...   \n",
       "25326  ISIC_0073247  0.0  0.0  1.0  0.0  0.0  0.0   0.0  0.0  0.0   \n",
       "25327  ISIC_0073248  0.0  0.0  0.0  0.0  1.0  0.0   0.0  0.0  0.0   \n",
       "25328  ISIC_0073249  1.0  0.0  0.0  0.0  0.0  0.0   0.0  0.0  0.0   \n",
       "25329  ISIC_0073251  0.0  1.0  0.0  0.0  0.0  0.0   0.0  0.0  0.0   \n",
       "25330  ISIC_0073254  0.0  0.0  0.0  0.0  1.0  0.0   0.0  0.0  0.0   \n",
       "\n",
       "                      label  \n",
       "0         melanocytic nevus  \n",
       "1         melanocytic nevus  \n",
       "2                  melanoma  \n",
       "3         melanocytic nevus  \n",
       "4                  melanoma  \n",
       "...                     ...  \n",
       "25326  basal cell carcinoma  \n",
       "25327      benign keratosis  \n",
       "25328              melanoma  \n",
       "25329     melanocytic nevus  \n",
       "25330      benign keratosis  \n",
       "\n",
       "[25331 rows x 11 columns]"
      ]
     },
     "execution_count": 6,
     "metadata": {},
     "output_type": "execute_result"
    }
   ],
   "source": [
    "def determine_label(row):\n",
    "    if row['MEL'] == 1.0:\n",
    "        return 'melanoma'\n",
    "    elif row['NV'] == 1.0:\n",
    "        return 'melanocytic nevus'\n",
    "    elif row['BCC'] == 1.0:\n",
    "        return 'basal cell carcinoma'\n",
    "    elif row['AK'] == 1.0:\n",
    "        return 'actinic keratosis'\n",
    "    elif row['BKL'] == 1.0:\n",
    "        return 'benign keratosis'\n",
    "    elif row['DF'] == 1.0:\n",
    "        return 'dermatofibroma'\n",
    "    elif row['VASC'] == 1.0:\n",
    "        return 'vascular lesion'\n",
    "    elif row['SCC'] == 1.0:\n",
    "        return 'squamous cell carcinoma'\n",
    "    elif row['UNK'] == 1.0:\n",
    "        return 'unknown'\n",
    "    else:\n",
    "        return 'unlabeled'\n",
    "\n",
    "# Apply the function to each row in the DataFrame\n",
    "metadata['label'] = metadata.apply(determine_label, axis=1)\n",
    "metadata"
   ]
  },
  {
   "cell_type": "code",
   "execution_count": 7,
   "id": "7d18ad7b-7f41-4a0d-aa33-76caf9d502c4",
   "metadata": {},
   "outputs": [],
   "source": [
    "import os\n",
    "import shutil\n",
    "from tqdm import tqdm\n",
    "output_base = \"OneDrive/Downloads/Deep learning/datasets/isic_2019_split\"\n",
    "train_path = output_base + \"/train\"\n",
    "test_path = output_base + \"/test\"\n",
    "image_folder_path = \"OneDrive/Downloads/Deep learning/datasets/isic_2019_train_raw/ISIC_2019_Training_Input\"\n",
    "labels = metadata['label'].unique()\n",
    "# for label in labels:\n",
    "#     os.makedirs(os.path.join(train_path, label), exist_ok=True)\n",
    "\n",
    "# # Copy images to respective label directories. Usinf tqdm to visualize the progress.\n",
    "# for index, row in tqdm(metadata.iterrows(), total=metadata.shape[0], desc=\"Copying images\"):\n",
    "#     image_name = row['image'] + '.jpg'  # Assuming images are in .jpg format\n",
    "#     label = row['label']\n",
    "#     src_path = os.path.join(image_folder_path, image_name)\n",
    "#     dest_path = os.path.join(train_path, label, image_name)\n",
    "    \n",
    "#     # Debug statements\n",
    "#     if not os.path.exists(src_path):\n",
    "#         print(f\"File does not exist: {src_path}\")\n",
    "#     else:\n",
    "#         shutil.copy(src_path, dest_path)\n",
    "\n",
    "train_dataset = datasets.ImageFolder(train_path, transform=train_transform)"
   ]
  },
  {
   "cell_type": "code",
   "execution_count": 9,
   "id": "cde11137-a624-4e56-ab09-aedc902f1ab4",
   "metadata": {},
   "outputs": [
    {
     "data": {
      "image/png": "[encoded data removed]",
      "text/plain": [
       "<Figure size 640x480 with 1 Axes>"
      ]
     },
     "metadata": {},
     "output_type": "display_data"
    }
   ],
   "source": [
    "# show some samples\n",
    "def imshow(inp, title=None):\n",
    "    \"\"\"Display image for Tensor.\"\"\"\n",
    "    inp = inp.numpy().transpose((1, 2, 0))\n",
    "    plt.imshow(inp)\n",
    "    if title is not None:\n",
    "        plt.title(title)\n",
    "    plt.pause(0.001)  # pause a bit so that plots are updated\n",
    "\n",
    "\n",
    "# Get a batch of training data\n",
    "train_loader_for_vis = DataLoader(train_dataset, batch_size=4, shuffle=True, num_workers=0)\n",
    "inputs, classes = next(iter(train_loader_for_vis))\n",
    "\n",
    "# Make a grid from batch\n",
    "out = torchvision.utils.make_grid(inputs)\n",
    "\n",
    "class_names = train_dataset.classes\n",
    "\n",
    "imshow(out, title=[class_names[x] for x in classes])"
   ]
  },
  {
   "cell_type": "code",
   "execution_count": 10,
   "id": "bfc3a245-dd0b-4d94-b4dd-58d4c57924b9",
   "metadata": {},
   "outputs": [],
   "source": [
    "# Define the base transform\n",
    "base_transform = transforms.Compose([\n",
    "    transforms.Resize((224, 224)),\n",
    "    transforms.ToTensor(),\n",
    "])\n",
    "\n",
    "# Define augmentation transforms\n",
    "augmentation_transform = transforms.Compose([\n",
    "    transforms.Resize((224, 224)),\n",
    "    transforms.RandomHorizontalFlip(),\n",
    "    transforms.RandomRotation(10),\n",
    "    transforms.RandomResizedCrop(224, scale=(0.8, 1.0)),\n",
    "    #transforms.ColorJitter(brightness=0.2, contrast=0.2, saturation=0.2, hue=0.2),\n",
    "    transforms.ToTensor(),\n",
    "])"
   ]
  },
  {
   "cell_type": "code",
   "execution_count": 10,
   "id": "576b0be4-cf61-4a6c-aff5-6fd205e292c8",
   "metadata": {},
   "outputs": [],
   "source": [
    "from torchvision.datasets import ImageFolder\n",
    "from torch.utils.data import Dataset\n",
    "class AugmentedDataset(Dataset):\n",
    "    def __init__(self, image_folder, transform=None, augmentation_transform=None, target_counts=None):\n",
    "        self.image_folder = image_folder\n",
    "        self.transform = transform\n",
    "        self.augmentation_transform = augmentation_transform\n",
    "        self.samples = image_folder.samples\n",
    "        self.target_counts = target_counts if target_counts else {}\n",
    "\n",
    "        # Separate the samples by class\n",
    "        self.class_samples = {class_name: [] for class_name in image_folder.classes}\n",
    "        for path, label in self.samples:\n",
    "            class_name = image_folder.classes[label]\n",
    "            self.class_samples[class_name].append((path, label))\n",
    "        \n",
    "        # Create balanced samples\n",
    "        self.balanced_samples = self._create_balanced_samples()\n",
    "\n",
    "    def _create_balanced_samples(self):\n",
    "        balanced_samples = []\n",
    "        \n",
    "        # Augment and add samples for each class based on target counts\n",
    "        for class_name, target_count in self.target_counts.items():\n",
    "            samples = self.class_samples[class_name]\n",
    "            num_original = len(samples)\n",
    "            if num_original < target_count:\n",
    "                num_augmented = target_count - num_original\n",
    "                balanced_samples.extend(samples)\n",
    "                # Add augmented samples\n",
    "                augmented_samples = samples * (num_augmented // num_original) + random.sample(samples, num_augmented % num_original)\n",
    "                balanced_samples.extend(augmented_samples)\n",
    "            else:\n",
    "                balanced_samples.extend(samples[:target_count])\n",
    "\n",
    "        return balanced_samples\n",
    "\n",
    "    def __len__(self):\n",
    "        return len(self.balanced_samples)\n",
    "\n",
    "    def __getitem__(self, idx):\n",
    "        path, label = self.balanced_samples[idx]\n",
    "        image = self.image_folder.loader(path)\n",
    "        if self.augmentation_transform and (self.balanced_samples.count((path, label)) > 1):\n",
    "            image = self.augmentation_transform(image)\n",
    "        elif self.transform:\n",
    "            image = self.transform(image)\n",
    "        return image, label\n",
    "\n",
    "    @property\n",
    "    def classes(self):\n",
    "        return self.image_folder.classes\n"
   ]
  },
  {
   "cell_type": "code",
   "execution_count": 11,
   "id": "f4106ea3-1b07-4651-a4f8-374e887f96dd",
   "metadata": {},
   "outputs": [],
   "source": [
    "import random\n",
    "from torch.utils.data import DataLoader\n",
    "\n",
    "target_counts = {\n",
    "    'actinic keratosis': 3167,\n",
    "    'basal cell carcinoma': 3167,\n",
    "    'benign keratosis': 3167,\n",
    "    'dermatofibroma': 3167,\n",
    "    'melanocytic nevus': 3167,\n",
    "    'melanoma': 3167,\n",
    "    'squamous cell carcinoma': 3167,\n",
    "    'vascular lesion': 3167\n",
    "}\n",
    "\n",
    "# Create the augmented dataset\n",
    "augmented_dataset = AugmentedDataset(\n",
    "    image_folder=train_dataset,\n",
    "    transform=base_transform,\n",
    "    augmentation_transform=augmentation_transform,\n",
    "    target_counts=target_counts\n",
    ")\n",
    "\n",
    "# Create dataloaders\n",
    "train_loader = DataLoader(augmented_dataset, batch_size=32, shuffle=True)\n",
    "\n",
    "# # Print the number of images in each class in the balanced dataset\n",
    "# class_counts = {class_name: 0 for class_name in train_dataset.classes}\n",
    "# for _, label in augmented_dataset:\n",
    "#     class_name = train_dataset.classes[label]\n",
    "#     class_counts[class_name] += 1\n",
    "\n",
    "# for class_name, count in class_counts.items():\n",
    "#     print(f\"Class '{class_name}' contains {count} images in the balanced dataset.\")"
   ]
  },
  {
   "cell_type": "code",
   "execution_count": 12,
   "id": "0fa35bc0-c326-4a26-8ad4-2252852d1d5f",
   "metadata": {},
   "outputs": [],
   "source": [
    "from torch.utils.data import DataLoader, Subset\n",
    "from sklearn.model_selection import train_test_split\n",
    "\n",
    "#train_dataset = datasets.ImageFolder(train_path, transform=train_transform)\n",
    "\n",
    "labels = [label for _, label in train_dataset.samples]\n",
    "aug_labels = [label for _, label in augmented_dataset.samples]\n",
    "\n",
    "# Split the dataset into training and validation/test sets using stratified split\n",
    "train_idx, val_test_idx = train_test_split(\n",
    "    list(range(len(labels))), test_size=0.4, stratify=labels, random_state=42\n",
    ")\n",
    "\n",
    "aug_train_idx, aug_val_test_idx = train_test_split(\n",
    "    list(range(len(aug_labels))), test_size=0.4, stratify=aug_labels, random_state=42\n",
    ")\n",
    "\n",
    "# Further split the validation/test sets to create validation and test sets\n",
    "val_idx, test_idx = train_test_split(\n",
    "    val_test_idx, test_size=0.5, stratify=[labels[i] for i in val_test_idx], random_state=42\n",
    ")\n",
    "\n",
    "aug_val_idx, aug_test_idx = train_test_split(\n",
    "    aug_val_test_idx, test_size=0.5, stratify=[aug_labels[i] for i in aug_val_test_idx], random_state=42\n",
    ")\n",
    "\n",
    "# Create Subsets for training, validation, and test sets\n",
    "train_subset = Subset(train_dataset, train_idx)\n",
    "val_subset = Subset(train_dataset, val_idx)\n",
    "test_subset = Subset(train_dataset, test_idx)\n",
    "\n",
    "aug_train_subset = Subset(augmented_dataset, aug_train_idx)\n",
    "aug_val_subset = Subset(augmented_dataset, aug_val_idx)\n",
    "aug_test_subset = Subset(augmented_dataset, aug_test_idx)\n",
    "\n",
    "# Create DataLoaders for the training, validation, and test datasets\n",
    "train_loader = DataLoader(train_subset, batch_size=32, shuffle=True)\n",
    "val_loader = DataLoader(val_subset, batch_size=32, shuffle=False)\n",
    "test_loader = DataLoader(test_subset, batch_size=32, shuffle=False)\n",
    "\n",
    "aug_train_loader = DataLoader(aug_train_subset, batch_size=32, shuffle=True)\n",
    "aug_val_loader = DataLoader(aug_val_subset, batch_size=32, shuffle=False)\n",
    "aug_test_loader = DataLoader(aug_test_subset, batch_size=32, shuffle=False)\n",
    "\n",
    "# Print the number of images in each class in the training and validation datasets\n",
    "# def count_classes(dataset, dataset_name):\n",
    "#     class_counts = {class_name: 0 for class_name in train_dataset.classes}\n",
    "#     for _, label in dataset:\n",
    "#         class_name = train_dataset.classes[label]\n",
    "#         class_counts[class_name] += 1\n",
    "#     for class_name, count in class_counts.items():\n",
    "#         print(f\"Class '{class_name}' contains {count} images in the {dataset_name} dataset.\")\n",
    "\n",
    "# print(\"Training dataset:\")\n",
    "# count_classes(train_subset, \"training\")\n",
    "\n",
    "# print(\"Validation dataset:\")\n",
    "# count_classes(val_subset, \"validation\")"
   ]
  },
  {
   "cell_type": "code",
   "execution_count": 13,
   "id": "3a3f5d9c-b7ad-45ab-9ed0-a66b1abad9ef",
   "metadata": {},
   "outputs": [],
   "source": [
    "device = torch.device(\"cuda\" if torch.cuda.is_available() else \"cpu\")"
   ]
  },
  {
   "cell_type": "markdown",
   "id": "1a769058-2f86-4e8e-8b8c-9b2d8d24075f",
   "metadata": {},
   "source": [
    "Baseline CNN"
   ]
  },
  {
   "cell_type": "code",
   "execution_count": 14,
   "id": "9fef84fa-7b3e-4166-bdb7-fa9e9a8c4735",
   "metadata": {},
   "outputs": [],
   "source": [
    "class MyCNN(nn.Module):\n",
    "    def __init__(self, num_classes=8):\n",
    "        super(MyCNN, self).__init__()\n",
    "        \n",
    "        # Define convolutional layers\n",
    "        self.conv_layers = nn.Sequential(\n",
    "            nn.Conv2d(3, 32, kernel_size=3, padding=1),  # input channels: 3 (RGB), output channels: 32\n",
    "            nn.ReLU(),\n",
    "            nn.MaxPool2d(kernel_size=2, stride=2),\n",
    "            \n",
    "            nn.Conv2d(32, 64, kernel_size=3, padding=1), # input channels: 32, output channels: 64\n",
    "            nn.ReLU(),\n",
    "            nn.MaxPool2d(kernel_size=2, stride=2),\n",
    "            \n",
    "            nn.Conv2d(64, 128, kernel_size=3, padding=1), # input channels: 64, output channels: 128\n",
    "            nn.ReLU(),\n",
    "            nn.MaxPool2d(kernel_size=2, stride=2),\n",
    "            \n",
    "            nn.Conv2d(128, 256, kernel_size=3, padding=1), # input channels: 128, output channels: 256\n",
    "            nn.ReLU(),\n",
    "            nn.MaxPool2d(kernel_size=2, stride=2)\n",
    "        )\n",
    "        \n",
    "        # The size after the conv layers is [256, 14, 14]\n",
    "        # Calculate the number of features for the first fully connected layer\n",
    "        self.fc_layers = nn.Sequential(\n",
    "            nn.Dropout(0.5),  # Dropout layer to prevent overfitting\n",
    "            nn.Linear(256 * 14 * 14, 512), # Input size based on calculated feature map size\n",
    "            nn.ReLU(),\n",
    "            nn.Linear(512, num_classes)  # Output layer with num_classes output units (e.g., 8 classes)\n",
    "        )\n",
    "    \n",
    "    def forward(self, x):\n",
    "        x = self.conv_layers(x)\n",
    "        x = x.view(x.size(0), -1)  # Flatten the output of convolutional layers\n",
    "        x = self.fc_layers(x)\n",
    "        return x\n",
    "\n",
    "basemodel = MyCNN(num_classes=8)\n",
    "# basemodel.to(device)"
   ]
  },
  {
   "cell_type": "markdown",
   "id": "79812ae1-7d4f-4330-ba1c-d1d59d9f5160",
   "metadata": {},
   "source": [
    "CNN with Spatial Attention mechanism"
   ]
  },
  {
   "cell_type": "code",
   "execution_count": 15,
   "id": "df36ee2d-a96d-4dff-b4ac-84f363d9921a",
   "metadata": {},
   "outputs": [
    {
     "data": {
      "text/plain": [
       "SpatCNN(\n",
       "  (conv_layers): Sequential(\n",
       "    (0): Conv2d(3, 32, kernel_size=(3, 3), stride=(1, 1), padding=(1, 1))\n",
       "    (1): ReLU()\n",
       "    (2): MaxPool2d(kernel_size=2, stride=2, padding=0, dilation=1, ceil_mode=False)\n",
       "    (3): Conv2d(32, 64, kernel_size=(3, 3), stride=(1, 1), padding=(1, 1))\n",
       "    (4): ReLU()\n",
       "    (5): MaxPool2d(kernel_size=2, stride=2, padding=0, dilation=1, ceil_mode=False)\n",
       "    (6): Conv2d(64, 128, kernel_size=(3, 3), stride=(1, 1), padding=(1, 1))\n",
       "    (7): ReLU()\n",
       "    (8): MaxPool2d(kernel_size=2, stride=2, padding=0, dilation=1, ceil_mode=False)\n",
       "    (9): Conv2d(128, 256, kernel_size=(3, 3), stride=(1, 1), padding=(1, 1))\n",
       "    (10): ReLU()\n",
       "    (11): MaxPool2d(kernel_size=2, stride=2, padding=0, dilation=1, ceil_mode=False)\n",
       "  )\n",
       "  (spatial_attention): SpatialAttention(\n",
       "    (conv1): Conv2d(2, 1, kernel_size=(7, 7), stride=(1, 1), padding=(3, 3), bias=False)\n",
       "    (sigmoid): Sigmoid()\n",
       "  )\n",
       "  (fc_layers): Sequential(\n",
       "    (0): Dropout(p=0.5, inplace=False)\n",
       "    (1): Linear(in_features=50176, out_features=512, bias=True)\n",
       "    (2): ReLU()\n",
       "    (3): Linear(in_features=512, out_features=8, bias=True)\n",
       "  )\n",
       ")"
      ]
     },
     "execution_count": 15,
     "metadata": {},
     "output_type": "execute_result"
    }
   ],
   "source": [
    "class SpatialAttention(nn.Module):\n",
    "    def __init__(self, kernel_size=7):\n",
    "        super(SpatialAttention, self).__init__()\n",
    "        \n",
    "        assert kernel_size in (3, 7), 'kernel size must be 3 or 7'\n",
    "        padding = 3 if kernel_size == 7 else 1\n",
    "        \n",
    "        self.conv1 = nn.Conv2d(2, 1, kernel_size, padding=padding, bias=False)\n",
    "        self.sigmoid = nn.Sigmoid()\n",
    "    \n",
    "    def forward(self, x):\n",
    "        avg_out = torch.mean(x, dim=1, keepdim=True)\n",
    "        max_out, _ = torch.max(x, dim=1, keepdim=True)\n",
    "        x = torch.cat([avg_out, max_out], dim=1)\n",
    "        x = self.conv1(x)\n",
    "        return self.sigmoid(x)\n",
    "\n",
    "class SpatCNN(nn.Module):\n",
    "    def __init__(self, num_classes=8):\n",
    "        super(SpatCNN, self).__init__()\n",
    "        \n",
    "        # Define convolutional layers\n",
    "        self.conv_layers = nn.Sequential(\n",
    "            nn.Conv2d(3, 32, kernel_size=3, padding=1),  # input channels: 3 (RGB), output channels: 32\n",
    "            nn.ReLU(),\n",
    "            nn.MaxPool2d(kernel_size=2, stride=2),\n",
    "            \n",
    "            nn.Conv2d(32, 64, kernel_size=3, padding=1), # input channels: 32, output channels: 64\n",
    "            nn.ReLU(),\n",
    "            nn.MaxPool2d(kernel_size=2, stride=2),\n",
    "            \n",
    "            nn.Conv2d(64, 128, kernel_size=3, padding=1), # input channels: 64, output channels: 128\n",
    "            nn.ReLU(),\n",
    "            nn.MaxPool2d(kernel_size=2, stride=2),\n",
    "            \n",
    "            nn.Conv2d(128, 256, kernel_size=3, padding=1), # input channels: 128, output channels: 256\n",
    "            nn.ReLU(),\n",
    "            nn.MaxPool2d(kernel_size=2, stride=2)\n",
    "        )\n",
    "        \n",
    "        # Spatial attention layer\n",
    "        self.spatial_attention = SpatialAttention(kernel_size=7)\n",
    "        \n",
    "        # The size after the conv layers is [256, 14, 14]\n",
    "        # Calculate the number of features for the first fully connected layer\n",
    "        self.fc_layers = nn.Sequential(\n",
    "            nn.Dropout(0.5),  # Dropout layer to prevent overfitting\n",
    "            nn.Linear(256 * 14 * 14, 512), # Input size based on calculated feature map size\n",
    "            nn.ReLU(),\n",
    "            nn.Linear(512, num_classes)  # Output layer with num_classes output units (e.g., 8 classes)\n",
    "        )\n",
    "    \n",
    "    def forward(self, x):\n",
    "        x = self.conv_layers(x)\n",
    "        attn = self.spatial_attention(x)\n",
    "        x = x * attn\n",
    "        x = x.view(x.size(0), -1)  # Flatten the output of convolutional layers\n",
    "        x = self.fc_layers(x)\n",
    "        return x\n",
    "\n",
    "spatmodel = SpatCNN(num_classes=8)\n",
    "spatmodel.to(device)"
   ]
  },
  {
   "cell_type": "markdown",
   "id": "091cd5b6-53d3-492c-9da6-4aeed928c3e3",
   "metadata": {},
   "source": [
    "CNN with channel attention mechanism"
   ]
  },
  {
   "cell_type": "code",
   "execution_count": 16,
   "id": "72040d1d-a208-4e1c-bd35-c16ce1366082",
   "metadata": {},
   "outputs": [
    {
     "data": {
      "text/plain": [
       "channelCNN(\n",
       "  (conv_layers): Sequential(\n",
       "    (0): Conv2d(3, 32, kernel_size=(3, 3), stride=(1, 1), padding=(1, 1))\n",
       "    (1): BatchNorm2d(32, eps=1e-05, momentum=0.1, affine=True, track_running_stats=True)\n",
       "    (2): ReLU()\n",
       "    (3): MaxPool2d(kernel_size=2, stride=2, padding=0, dilation=1, ceil_mode=False)\n",
       "    (4): Conv2d(32, 64, kernel_size=(3, 3), stride=(1, 1), padding=(1, 1))\n",
       "    (5): BatchNorm2d(64, eps=1e-05, momentum=0.1, affine=True, track_running_stats=True)\n",
       "    (6): ReLU()\n",
       "    (7): MaxPool2d(kernel_size=2, stride=2, padding=0, dilation=1, ceil_mode=False)\n",
       "    (8): Conv2d(64, 128, kernel_size=(3, 3), stride=(1, 1), padding=(1, 1))\n",
       "    (9): BatchNorm2d(128, eps=1e-05, momentum=0.1, affine=True, track_running_stats=True)\n",
       "    (10): ReLU()\n",
       "    (11): MaxPool2d(kernel_size=2, stride=2, padding=0, dilation=1, ceil_mode=False)\n",
       "    (12): Conv2d(128, 256, kernel_size=(3, 3), stride=(1, 1), padding=(1, 1))\n",
       "    (13): BatchNorm2d(256, eps=1e-05, momentum=0.1, affine=True, track_running_stats=True)\n",
       "    (14): ReLU()\n",
       "    (15): MaxPool2d(kernel_size=2, stride=2, padding=0, dilation=1, ceil_mode=False)\n",
       "  )\n",
       "  (se_blocks): ModuleList(\n",
       "    (0): SEBlock(\n",
       "      (avg_pool): AdaptiveAvgPool2d(output_size=1)\n",
       "      (fc): Sequential(\n",
       "        (0): Linear(in_features=32, out_features=2, bias=False)\n",
       "        (1): ReLU(inplace=True)\n",
       "        (2): Linear(in_features=2, out_features=32, bias=False)\n",
       "        (3): Sigmoid()\n",
       "      )\n",
       "    )\n",
       "    (1): SEBlock(\n",
       "      (avg_pool): AdaptiveAvgPool2d(output_size=1)\n",
       "      (fc): Sequential(\n",
       "        (0): Linear(in_features=64, out_features=4, bias=False)\n",
       "        (1): ReLU(inplace=True)\n",
       "        (2): Linear(in_features=4, out_features=64, bias=False)\n",
       "        (3): Sigmoid()\n",
       "      )\n",
       "    )\n",
       "    (2): SEBlock(\n",
       "      (avg_pool): AdaptiveAvgPool2d(output_size=1)\n",
       "      (fc): Sequential(\n",
       "        (0): Linear(in_features=128, out_features=8, bias=False)\n",
       "        (1): ReLU(inplace=True)\n",
       "        (2): Linear(in_features=8, out_features=128, bias=False)\n",
       "        (3): Sigmoid()\n",
       "      )\n",
       "    )\n",
       "    (3): SEBlock(\n",
       "      (avg_pool): AdaptiveAvgPool2d(output_size=1)\n",
       "      (fc): Sequential(\n",
       "        (0): Linear(in_features=256, out_features=16, bias=False)\n",
       "        (1): ReLU(inplace=True)\n",
       "        (2): Linear(in_features=16, out_features=256, bias=False)\n",
       "        (3): Sigmoid()\n",
       "      )\n",
       "    )\n",
       "  )\n",
       "  (fc_layers): Sequential(\n",
       "    (0): Dropout(p=0.5, inplace=False)\n",
       "    (1): Linear(in_features=50176, out_features=512, bias=True)\n",
       "    (2): ReLU()\n",
       "    (3): Linear(in_features=512, out_features=8, bias=True)\n",
       "  )\n",
       ")"
      ]
     },
     "execution_count": 16,
     "metadata": {},
     "output_type": "execute_result"
    }
   ],
   "source": [
    "class SEBlock(nn.Module):\n",
    "    def __init__(self, channel, reduction=16):\n",
    "        super(SEBlock, self).__init__()\n",
    "        self.avg_pool = nn.AdaptiveAvgPool2d(1)\n",
    "        self.fc = nn.Sequential(\n",
    "            nn.Linear(channel, channel // reduction, bias=False),\n",
    "            nn.ReLU(inplace=True),\n",
    "            nn.Linear(channel // reduction, channel, bias=False),\n",
    "            nn.Sigmoid()\n",
    "        )\n",
    "    \n",
    "    def forward(self, x):\n",
    "        b, c, _, _ = x.size()\n",
    "        y = self.avg_pool(x).view(b, c)\n",
    "        y = self.fc(y).view(b, c, 1, 1)\n",
    "        return x * y.expand_as(x)\n",
    "\n",
    "class channelCNN(nn.Module):\n",
    "    def __init__(self, num_classes=8, input_height=224, input_width=224):\n",
    "        super(channelCNN, self).__init__()\n",
    "        \n",
    "        # Define convolutional layers\n",
    "        self.conv_layers = nn.Sequential(\n",
    "            nn.Conv2d(3, 32, kernel_size=3, padding=1),  # input channels: 3 (RGB), output channels: 32\n",
    "            nn.BatchNorm2d(32),\n",
    "            nn.ReLU(),\n",
    "            nn.MaxPool2d(kernel_size=2, stride=2),\n",
    "            \n",
    "            nn.Conv2d(32, 64, kernel_size=3, padding=1), # input channels: 32, output channels: 64\n",
    "            nn.BatchNorm2d(64),\n",
    "            nn.ReLU(),\n",
    "            nn.MaxPool2d(kernel_size=2, stride=2),\n",
    "            \n",
    "            nn.Conv2d(64, 128, kernel_size=3, padding=1), # input channels: 64, output channels: 128\n",
    "            nn.BatchNorm2d(128),\n",
    "            nn.ReLU(),\n",
    "            nn.MaxPool2d(kernel_size=2, stride=2),\n",
    "            \n",
    "            nn.Conv2d(128, 256, kernel_size=3, padding=1), # input channels: 128, output channels: 256\n",
    "            nn.BatchNorm2d(256),\n",
    "            nn.ReLU(),\n",
    "            nn.MaxPool2d(kernel_size=2, stride=2)\n",
    "        )\n",
    "        \n",
    "        # Channel attention layers\n",
    "        self.se_blocks = nn.ModuleList([\n",
    "            SEBlock(32),\n",
    "            SEBlock(64),\n",
    "            SEBlock(128),\n",
    "            SEBlock(256)\n",
    "        ])\n",
    "        \n",
    "        # Calculate the number of features for the first fully connected layer\n",
    "        self.fc_input_features = 256 * (input_height // 16) * (input_width // 16) # Adjust based on input size\n",
    "        self.fc_layers = nn.Sequential(\n",
    "            nn.Dropout(0.5),  # Dropout layer to prevent overfitting\n",
    "            nn.Linear(self.fc_input_features, 512), # Input size based on calculated feature map size\n",
    "            nn.ReLU(),\n",
    "            nn.Linear(512, num_classes)  # Output layer with num_classes output units (e.g., 8 classes)\n",
    "        )\n",
    "    \n",
    "    def forward(self, x):\n",
    "        for i in range(4):\n",
    "            x = self.conv_layers[i * 4:(i + 1) * 4](x)\n",
    "            x = self.se_blocks[i](x)\n",
    "        x = x.view(x.size(0), -1)  # Flatten the output of convolutional layers\n",
    "        x = self.fc_layers(x)\n",
    "        return x\n",
    "\n",
    "\n",
    "channelmodel = channelCNN(num_classes=8)\n",
    "channelmodel.to(device)\n"
   ]
  },
  {
   "cell_type": "markdown",
   "id": "f4d85055-c1ea-4858-8e02-e1a89b96c428",
   "metadata": {},
   "source": [
    "CNN with Self-attention mechanism"
   ]
  },
  {
   "cell_type": "code",
   "execution_count": 35,
   "id": "cf6ff848-4d84-4624-ae51-e648522cd8c1",
   "metadata": {},
   "outputs": [
    {
     "data": {
      "text/plain": [
       "selfAttentionCNN(\n",
       "  (conv_layers): Sequential(\n",
       "    (0): Conv2d(3, 32, kernel_size=(3, 3), stride=(1, 1), padding=(1, 1))\n",
       "    (1): ReLU()\n",
       "    (2): MaxPool2d(kernel_size=2, stride=2, padding=0, dilation=1, ceil_mode=False)\n",
       "    (3): Conv2d(32, 64, kernel_size=(3, 3), stride=(1, 1), padding=(1, 1))\n",
       "    (4): ReLU()\n",
       "    (5): MaxPool2d(kernel_size=2, stride=2, padding=0, dilation=1, ceil_mode=False)\n",
       "    (6): Conv2d(64, 128, kernel_size=(3, 3), stride=(1, 1), padding=(1, 1))\n",
       "    (7): ReLU()\n",
       "    (8): MaxPool2d(kernel_size=2, stride=2, padding=0, dilation=1, ceil_mode=False)\n",
       "    (9): Conv2d(128, 256, kernel_size=(3, 3), stride=(1, 1), padding=(1, 1))\n",
       "    (10): ReLU()\n",
       "    (11): MaxPool2d(kernel_size=2, stride=2, padding=0, dilation=1, ceil_mode=False)\n",
       "  )\n",
       "  (attention_layers): Sequential(\n",
       "    (0): SelfAttention(\n",
       "      (query_conv): Conv2d(32, 4, kernel_size=(1, 1), stride=(1, 1))\n",
       "      (key_conv): Conv2d(32, 4, kernel_size=(1, 1), stride=(1, 1))\n",
       "      (value_conv): Conv2d(32, 32, kernel_size=(1, 1), stride=(1, 1))\n",
       "      (softmax): Softmax(dim=-1)\n",
       "    )\n",
       "    (1): SelfAttention(\n",
       "      (query_conv): Conv2d(64, 8, kernel_size=(1, 1), stride=(1, 1))\n",
       "      (key_conv): Conv2d(64, 8, kernel_size=(1, 1), stride=(1, 1))\n",
       "      (value_conv): Conv2d(64, 64, kernel_size=(1, 1), stride=(1, 1))\n",
       "      (softmax): Softmax(dim=-1)\n",
       "    )\n",
       "    (2): SelfAttention(\n",
       "      (query_conv): Conv2d(128, 16, kernel_size=(1, 1), stride=(1, 1))\n",
       "      (key_conv): Conv2d(128, 16, kernel_size=(1, 1), stride=(1, 1))\n",
       "      (value_conv): Conv2d(128, 128, kernel_size=(1, 1), stride=(1, 1))\n",
       "      (softmax): Softmax(dim=-1)\n",
       "    )\n",
       "    (3): SelfAttention(\n",
       "      (query_conv): Conv2d(256, 32, kernel_size=(1, 1), stride=(1, 1))\n",
       "      (key_conv): Conv2d(256, 32, kernel_size=(1, 1), stride=(1, 1))\n",
       "      (value_conv): Conv2d(256, 256, kernel_size=(1, 1), stride=(1, 1))\n",
       "      (softmax): Softmax(dim=-1)\n",
       "    )\n",
       "  )\n",
       "  (fc_layers): Sequential(\n",
       "    (0): Dropout(p=0.5, inplace=False)\n",
       "    (1): Linear(in_features=50176, out_features=512, bias=True)\n",
       "    (2): ReLU()\n",
       "    (3): Linear(in_features=512, out_features=8, bias=True)\n",
       "  )\n",
       ")"
      ]
     },
     "execution_count": 35,
     "metadata": {},
     "output_type": "execute_result"
    }
   ],
   "source": [
    "class SelfAttention(nn.Module):\n",
    "    def __init__(self, in_channels):\n",
    "        super(SelfAttention, self).__init__()\n",
    "        self.in_channels = in_channels\n",
    "        self.query_conv = nn.Conv2d(in_channels, in_channels // 8, kernel_size=1)\n",
    "        self.key_conv = nn.Conv2d(in_channels, in_channels // 8, kernel_size=1)\n",
    "        self.value_conv = nn.Conv2d(in_channels, in_channels, kernel_size=1)\n",
    "        self.gamma = nn.Parameter(torch.zeros(1))\n",
    "        self.softmax = nn.Softmax(dim=-1)\n",
    "\n",
    "    def forward(self, x):\n",
    "        batch_size, C, width, height = x.size()\n",
    "        proj_query = self.query_conv(x).view(batch_size, -1, width * height).permute(0, 2, 1)\n",
    "        proj_key = self.key_conv(x).view(batch_size, -1, width * height)\n",
    "        energy = torch.bmm(proj_query, proj_key)\n",
    "        attention = self.softmax(energy)\n",
    "        proj_value = self.value_conv(x).view(batch_size, -1, width * height)\n",
    "\n",
    "        out = torch.bmm(proj_value, attention.permute(0, 2, 1))\n",
    "        out = out.view(batch_size, C, width, height)\n",
    "        out = self.gamma * out + x\n",
    "        return out\n",
    "\n",
    "class selfAttentionCNN(nn.Module):\n",
    "    def __init__(self, num_classes=8):\n",
    "        super(selfAttentionCNN, self).__init__()\n",
    "        \n",
    "        # Define convolutional layers\n",
    "        self.conv_layers = nn.Sequential(\n",
    "            nn.Conv2d(3, 32, kernel_size=3, padding=1),  # input channels: 3 (RGB), output channels: 32\n",
    "            nn.ReLU(),\n",
    "            nn.MaxPool2d(kernel_size=2, stride=2),\n",
    "            \n",
    "            nn.Conv2d(32, 64, kernel_size=3, padding=1), # input channels: 32, output channels: 64\n",
    "            nn.ReLU(),\n",
    "            nn.MaxPool2d(kernel_size=2, stride=2),\n",
    "            \n",
    "            nn.Conv2d(64, 128, kernel_size=3, padding=1), # input channels: 64, output channels: 128\n",
    "            nn.ReLU(),\n",
    "            nn.MaxPool2d(kernel_size=2, stride=2),\n",
    "            \n",
    "            nn.Conv2d(128, 256, kernel_size=3, padding=1), # input channels: 128, output channels: 256\n",
    "            nn.ReLU(),\n",
    "            nn.MaxPool2d(kernel_size=2, stride=2)\n",
    "        )\n",
    "        \n",
    "        # Self-attention layers\n",
    "        self.attention_layers = nn.Sequential(\n",
    "            SelfAttention(32),\n",
    "            SelfAttention(64),\n",
    "            SelfAttention(128),\n",
    "            SelfAttention(256)\n",
    "        )\n",
    "        \n",
    "        # The size after the conv layers is [256, 14, 14]\n",
    "        # Calculate the number of features for the first fully connected layer\n",
    "        self.fc_layers = nn.Sequential(\n",
    "            nn.Dropout(0.5),  # Dropout layer to prevent overfitting\n",
    "            nn.Linear(256 * 14 * 14, 512), # Input size based on calculated feature map size\n",
    "            nn.ReLU(),\n",
    "            nn.Linear(512, num_classes)  # Output layer with num_classes output units (e.g., 8 classes)\n",
    "        )\n",
    "    \n",
    "    def forward(self, x):\n",
    "        x = self.conv_layers[0:3](x)\n",
    "        x = self.attention_layers[0](x)\n",
    "        x = self.conv_layers[3:6](x)\n",
    "        x = self.attention_layers[1](x)\n",
    "        x = self.conv_layers[6:9](x)\n",
    "        x = self.attention_layers[2](x)\n",
    "        x = self.conv_layers[9:](x)\n",
    "        x = self.attention_layers[3](x)\n",
    "        x = x.view(x.size(0), -1)  # Flatten the output of convolutional layers\n",
    "        x = self.fc_layers(x)\n",
    "        return x\n",
    "\n",
    "selfmodel = selfAttentionCNN(num_classes=8)\n",
    "selfmodel.to(device)"
   ]
  },
  {
   "cell_type": "code",
   "execution_count": 18,
   "id": "09a43ddb-c4da-4247-ad04-b326f0fef1c1",
   "metadata": {},
   "outputs": [],
   "source": [
    "# import torch\n",
    "# import torch.nn as nn\n",
    "# from torchvision.models import resnet18, densenet121\n",
    "\n",
    "# # Check device\n",
    "# device = \"cuda\" if torch.cuda.is_available() else \"cpu\"\n",
    "\n",
    "# model = MyCNN(num_classes=8)\n",
    "# model = model.to(device)\n",
    "\n",
    "# attmodel = AttentionCNN(num_classes=8)\n",
    "# attmodel = attmodel.to(device)\n",
    "\n",
    "# Initialize ResNet18\n",
    "# resnet18 = resnet18(pretrained=False)\n",
    "# num_ftrs_res18 = resnet18.fc.in_features\n",
    "# resnet18.fc = nn.Linear(num_ftrs_res18, 8)\n",
    "\n",
    "# # Initialize DenseNet121\n",
    "# densenet121 = densenet121(pretrained=False)\n",
    "# num_ftrs_d121 = densenet121.classifier.in_features\n",
    "# densenet121.classifier = nn.Linear(num_ftrs_d121, 8)\n",
    "\n",
    "# # Move models to the specified device\n",
    "# resnet18 = resnet18.to(device)\n",
    "# densenet121 = densenet121.to(device)\n",
    "\n",
    "# # Example: Creating dummy input for testing\n",
    "# dummy_input = torch.randn(1, 3, 224, 224).to(device)\n",
    "\n",
    "# Forward pass to check if everything is working\n",
    "# try:\n",
    "#     output_resnet18 = resnet18(dummy_input)\n",
    "#     output_densenet121 = densenet121(dummy_input)\n",
    "#     print(\"Forward pass successful.\")\n",
    "# except Exception as e:\n",
    "#     print(f\"Error during forward pass: {e}\")\n"
   ]
  },
  {
   "cell_type": "code",
   "execution_count": 19,
   "id": "66ab2505-7198-40c3-9286-8e136cf11cec",
   "metadata": {},
   "outputs": [],
   "source": [
    "from sklearn.metrics import confusion_matrix, ConfusionMatrixDisplay, accuracy_score, precision_score, recall_score, roc_auc_score\n",
    "# For the classification task, we use cross-entropy as the measurement of performance.\n",
    "criterion = nn.CrossEntropyLoss()\n",
    "\n",
    "# Initialize optimizer, you may fine-tune some hyperparameters such as learning rate on your own.\n",
    "\n"
   ]
  },
  {
   "cell_type": "code",
   "execution_count": 20,
   "id": "de96951a-a424-4e02-8881-0244d2a85cf0",
   "metadata": {},
   "outputs": [],
   "source": [
    "import smtplib\n",
    "import time\n",
    "\n",
    "from io import BytesIO\n",
    "import smtplib\n",
    "from email.mime.multipart import MIMEMultipart\n",
    "from email.mime.text import MIMEText\n",
    "from email.mime.base import MIMEBase\n",
    "from email import encoders\n",
    "# Get the current date and time\n",
    "from datetime import datetime\n",
    "now = datetime.now()\n",
    "\n",
    "# Format the timestamp\n",
    "formatted_timestamp = now.strftime(\"%Y-%m-%d %H:%M:%S\")\n",
    "\n",
    "# Function to convert plot to in-memory file\n",
    "def plot_to_buffer():\n",
    "    buf = BytesIO()\n",
    "    plt.savefig(buf, format='png')\n",
    "    buf.seek(0)\n",
    "    return buf\n",
    "\n",
    "def send_email(from_addr, to_addr, subject, body, smtp_server, smtp_port, login, password, attachments):\n",
    "    msg = MIMEMultipart()\n",
    "    msg['From'] = from_addr\n",
    "    msg['To'] = to_addr\n",
    "    msg['Subject'] = subject\n",
    "    msg.attach(MIMEText(body, 'plain'))\n",
    "\n",
    "    for attachment in attachments:\n",
    "        part = MIMEBase('application', 'octet-stream')\n",
    "        part.set_payload(attachment['buffer'].read())\n",
    "        encoders.encode_base64(part)\n",
    "        part.add_header('Content-Disposition', f'attachment; filename={attachment[\"filename\"]}')\n",
    "        msg.attach(part)\n",
    "\n",
    "    try:\n",
    "        server = smtplib.SMTP(smtp_server, smtp_port)\n",
    "        server.starttls()\n",
    "        server.login(login, password)\n",
    "        server.sendmail(from_addr, to_addr, msg.as_string())\n",
    "        server.quit()\n",
    "        print(\"Email sent successfully!\")\n",
    "    except Exception as e:\n",
    "        print(f\"Failed to send email. Error: {e}\")\n",
    "\n",
    "# Example usage\n",
    "from_address = \"ejindujulius@gmail.com\"\n",
    "to_address =   \"ejindujulius@gmail.com\"\n",
    "subject = \"Python run\"\n",
    "\n",
    "smtp_server = \"smtp.gmail.com\"\n",
    "smtp_port = 587\n",
    "login = \"ejindujulius@gmail.com\"\n",
    "password = \"wwvo ymyk tuvd xmun\"  # Be cautious with hardcoding passwords"
   ]
  },
  {
   "cell_type": "markdown",
   "id": "19b1b81d-760d-44d8-98d5-7dcaec7818b7",
   "metadata": {},
   "source": [
    "# Model training\n",
    "* Observing the performance for each different attention mechanism method and for the CNN without attention mechanism\n",
    "* Comparing results with ResNet18 and DenseNet121"
   ]
  },
  {
   "cell_type": "code",
   "execution_count": 21,
   "id": "8d935b6b-1832-41f2-be84-680afc125b6c",
   "metadata": {},
   "outputs": [],
   "source": [
    "# Define the input size (height and width)\n",
    "input_height = 224  # Example input height\n",
    "input_width = 224   # Example input width"
   ]
  },
  {
   "cell_type": "code",
   "execution_count": 22,
   "id": "e1701c5a-4e8d-47bc-ba14-2363fb95e9dd",
   "metadata": {},
   "outputs": [],
   "source": [
    "import gc\n",
    "def clear_cuda():\n",
    "    # Delete all tensors stored on the GPU\n",
    "    for obj in list(globals().values()):\n",
    "        if torch.is_tensor(obj) and obj.is_cuda:\n",
    "            del obj\n",
    "    # Clear CUDA cache\n",
    "    torch.cuda.empty_cache()\n",
    "    # Run garbage collector\n",
    "    gc.collect()"
   ]
  },
  {
   "cell_type": "markdown",
   "id": "e8bdf03a-46ee-4cca-b45b-4b7f7678c771",
   "metadata": {},
   "source": [
    "Base CNN (no attention mechanism)"
   ]
  },
  {
   "cell_type": "code",
   "execution_count": 23,
   "id": "37fbd983-d95e-4e79-ab20-0aeee338f3fa",
   "metadata": {},
   "outputs": [],
   "source": [
    "# # Training parameters\n",
    "# start_time = time.time()\n",
    "# model = basemodel\n",
    "# optimizer = torch.optim.Adam(model.parameters(), lr=0.001)\n",
    "# n_epochs = 50\n",
    "# patience = 5\n",
    "# valid_loader = aug_val_loader\n",
    "# # Lists to store epoch metrics\n",
    "# best_valid_acc = 0\n",
    "# train_loss_epochs = []\n",
    "# train_acc_epochs = []\n",
    "# valid_loss_epochs = []\n",
    "# valid_acc_epochs = []\n",
    "\n",
    "# # Early stopping counter\n",
    "# counter = 0\n",
    "\n",
    "# # Lists to store true labels and predictions for confusion matrix and metrics\n",
    "# all_labels = []\n",
    "# all_preds = []\n",
    "# all_probs = []\n",
    "\n",
    "# for epoch in range(n_epochs):\n",
    "#     # ---------- Training ----------\n",
    "#     model.train()\n",
    "#     train_loss = []\n",
    "#     train_accs = []\n",
    "\n",
    "#     for batch in tqdm(aug_train_loader, desc=f\"Epoch {epoch+1}/{n_epochs} [Training]\"):\n",
    "#         optimizer.zero_grad()\n",
    "#         imgs, labels = batch\n",
    "#         imgs = imgs.to(device)\n",
    "#         labels = labels.to(device)\n",
    "#         logits = model(imgs)\n",
    "#         loss = criterion(logits, labels)\n",
    "#         loss.backward()\n",
    "#         optimizer.step()\n",
    "#         acc = (logits.argmax(dim=-1) == labels).float().mean()\n",
    "#         train_loss.append(loss.item())\n",
    "#         train_accs.append(acc.item())\n",
    "\n",
    "#     train_loss = sum(train_loss) / len(train_loss)\n",
    "#     train_acc = sum(train_accs) / len(train_accs)\n",
    "#     train_loss_epochs.append(train_loss)\n",
    "#     train_acc_epochs.append(train_acc)\n",
    "\n",
    "#     # ---------- Validation ----------\n",
    "#     model.eval()\n",
    "#     valid_loss = []\n",
    "#     valid_accs = []\n",
    "\n",
    "#     # Clear lists to store labels and predictions for this epoch\n",
    "#     epoch_labels = []\n",
    "#     epoch_preds = []\n",
    "#     epoch_probs = []\n",
    "\n",
    "#     for batch in tqdm(valid_loader, desc=f\"Epoch {epoch+1}/{n_epochs} [Validation]\"):\n",
    "#         imgs, labels = batch\n",
    "#         imgs = imgs.to(device)\n",
    "#         labels = labels.to(device)\n",
    "\n",
    "#         with torch.no_grad():\n",
    "#             logits = model(imgs)\n",
    "#         loss = criterion(logits, labels)\n",
    "#         acc = (logits.argmax(dim=-1) == labels).float().mean()\n",
    "#         valid_loss.append(loss.item())\n",
    "#         valid_accs.append(acc.item())\n",
    "\n",
    "#         # Store predictions and labels for confusion matrix and metrics\n",
    "#         epoch_preds.extend(logits.argmax(dim=-1).cpu().numpy().tolist())\n",
    "#         epoch_labels.extend(labels.cpu().numpy().tolist())\n",
    "#         epoch_probs.extend(torch.nn.functional.softmax(logits, dim=1).cpu().numpy().tolist())  # Collect all probabilities\n",
    "\n",
    "#     valid_loss = sum(valid_loss) / len(valid_loss)\n",
    "#     valid_acc = sum(valid_accs) / len(valid_accs)\n",
    "#     valid_loss_epochs.append(valid_loss)\n",
    "#     valid_acc_epochs.append(valid_acc)\n",
    "\n",
    "#     # Update the overall lists for confusion matrix and metrics\n",
    "#     all_labels.extend(epoch_labels)\n",
    "#     all_preds.extend(epoch_preds)\n",
    "#     all_probs.extend(epoch_probs)  # Accumulate probabilities for all classes\n",
    "\n",
    "#     # Save the best model based on validation accuracy\n",
    "#     if valid_acc > best_valid_acc:\n",
    "#         best_valid_acc = valid_acc\n",
    "#         torch.save(model.state_dict(), 'best_model.pth')\n",
    "#         counter = 0  # Reset counter when there's an improvement\n",
    "#     else:\n",
    "#         counter += 1  # Increment counter when there's no improvement\n",
    "#         if counter >= patience:\n",
    "#             print(\"Early stopping triggered. No improvement in validation accuracy.\")\n",
    "#             break\n",
    "\n",
    "#     # Print the information\n",
    "#     print(f\"\"\"[Epoch: {epoch + 1:03d}/{n_epochs:03d}] Train: loss={train_loss:.5f}, acc={train_acc:.5f} \n",
    "#                 | Valid: loss={valid_loss:.5f}, acc={valid_acc:.5f}\"\"\")\n",
    "\n",
    "# # After training, compute metrics\n",
    "# accuracy = accuracy_score(all_labels, all_preds)\n",
    "# precision = precision_score(all_labels, all_preds, average='macro')  # Use 'macro' for multi-class\n",
    "# recall = recall_score(all_labels, all_preds, average='macro')        # Use 'macro' for multi-class\n",
    "# auc = roc_auc_score(all_labels, all_probs, multi_class='ovr')        # Use 'ovr' for multi-class AUC\n",
    "\n",
    "# print(f'Accuracy: {accuracy:.4f}')\n",
    "# print(f'Precision: {precision:.4f}')\n",
    "# print(f'Recall: {recall:.4f}')\n",
    "# print(f'AUC: {auc:.4f}')\n",
    "\n",
    "# # Compute and display the confusion matrix\n",
    "# cm = confusion_matrix(all_labels, all_preds)\n",
    "# disp = ConfusionMatrixDisplay(confusion_matrix=cm, display_labels=class_names)\n",
    "# disp.plot(cmap=plt.cm.Blues)\n",
    "# plt.title(\"Confusion Matrix\")\n",
    "# plt.xticks(rotation=90)\n",
    "# buf_cm = plot_to_buffer()\n",
    "# plt.close()  # Close the plot to free memory\n",
    "\n",
    "# # Loss curves plot\n",
    "# plt.figure()\n",
    "# plt.plot(train_loss_epochs, label='Train Loss')\n",
    "# plt.plot(valid_loss_epochs, label='Validation Loss')\n",
    "# plt.xlabel('Epochs')\n",
    "# plt.ylabel('Loss')\n",
    "# plt.title('Train and Validation Loss')\n",
    "# plt.legend()\n",
    "# buf_loss = plot_to_buffer()\n",
    "# plt.close()  # Close the plot to free memory\n",
    "\n",
    "# # Accuracy curves plot\n",
    "# plt.figure()\n",
    "# plt.plot(train_acc_epochs, label='Train Accuracy')\n",
    "# plt.plot(valid_acc_epochs, label='Validation Accuracy')\n",
    "# plt.xlabel('Epochs')\n",
    "# plt.ylabel('Accuracy')\n",
    "# plt.title('Train and Validation Accuracy')\n",
    "# plt.legend()\n",
    "# buf_acc = plot_to_buffer()\n",
    "# plt.close() "
   ]
  },
  {
   "cell_type": "code",
   "execution_count": 24,
   "id": "77c78155-a5fa-4949-a76e-a41d204c6a7c",
   "metadata": {},
   "outputs": [],
   "source": [
    "# model.load_state_dict(torch.load('best_model.pth'))\n",
    "\n",
    "# # Make sure the model is in eval mode.\n",
    "# # Some modules like Dropout or BatchNorm affect if the model is in training mode.\n",
    "# model.eval()\n",
    "\n",
    "# test_accs = []\n",
    "\n",
    "# # Iterate the testing set by batches.\n",
    "# for batch in tqdm(aug_test_loader):\n",
    "#     # A batch consists of image data and corresponding labels.\n",
    "#     imgs, labels = batch\n",
    "#     imgs = imgs.to(device)\n",
    "#     labels = labels.to(device)\n",
    "\n",
    "#     # We don't need gradient in test\n",
    "#     # Using torch.no_grad() accelerates the forward process.\n",
    "#     with torch.no_grad():\n",
    "#       logits = model(imgs)\n",
    "\n",
    "#     # We can still compute the loss (but not the gradient).\n",
    "#     loss = criterion(logits, labels)\n",
    "\n",
    "#     # Compute the accuracy for current batch.\n",
    "#     acc = (logits.argmax(dim=-1) == labels).float().mean()\n",
    "\n",
    "#     # Record accuracy.\n",
    "#     test_accs.append(acc)\n",
    "\n",
    "# # The average accuracy for entire test set is the average of the recorded values.\n",
    "# test_acc = sum(test_accs) / len(test_accs)\n",
    "# print(f'Test accuracy {test_acc}')"
   ]
  },
  {
   "cell_type": "code",
   "execution_count": 25,
   "id": "9363a159-fff1-4bd8-896f-59354b63ffde",
   "metadata": {},
   "outputs": [],
   "source": [
    "# end_time = time.time()\n",
    "# elapsed_time = end_time - start_time\n",
    "# formatted_time = time.strftime(\"%H:%M:%S\", time.gmtime(elapsed_time))\n",
    "\n",
    "# body = f\"\"\"Base CNN has completed training. \\n\n",
    "#         Completed at {formatted_timestamp} \n",
    "#         Time taken to run: {formatted_time}\n",
    "#         Accuracy: {accuracy}\n",
    "#         Precision: {precision}\n",
    "#         Recall: {recall}\n",
    "#         AUC: {auc}\n",
    "#         Final Validation Accuracy: {valid_acc_epochs[-1]} \n",
    "#         Test Accuracy: {test_acc}\n",
    "#         \"\"\"\n",
    "\n",
    "\n",
    "# attachments = [\n",
    "#     {'buffer': buf_cm, 'filename': 'confusion_matrix.png'},\n",
    "#     {'buffer': buf_loss, 'filename': 'loss_curves.png'},\n",
    "#     {'buffer': buf_acc, 'filename': 'accuracy_curves.png'}\n",
    "# ]\n",
    "\n",
    "# send_email(from_address, to_address, subject, body, smtp_server, smtp_port, login, password, attachments)\n",
    "# clear_cuda()"
   ]
  },
  {
   "cell_type": "markdown",
   "id": "556932b4-3f48-42ca-9369-47b8dc8b7887",
   "metadata": {},
   "source": [
    "CNN with Spatial attention mechanism"
   ]
  },
  {
   "cell_type": "code",
   "execution_count": 26,
   "id": "d8782e14-5a53-434a-b45d-f1d431daab54",
   "metadata": {},
   "outputs": [
    {
     "name": "stderr",
     "output_type": "stream",
     "text": [
      "Epoch 1/50 [Training]: 100%|█████████████████████████████████████████████████████████| 475/475 [04:45<00:00,  1.66it/s]\n",
      "Epoch 1/50 [Validation]: 100%|███████████████████████████████████████████████████████| 159/159 [01:34<00:00,  1.69it/s]\n"
     ]
    },
    {
     "name": "stdout",
     "output_type": "stream",
     "text": [
      "[Epoch: 001/050] Train: loss=1.62334, acc=0.34915 \n",
      "                | Valid: loss=1.45274, acc=0.42378\n"
     ]
    },
    {
     "name": "stderr",
     "output_type": "stream",
     "text": [
      "Epoch 2/50 [Training]: 100%|█████████████████████████████████████████████████████████| 475/475 [04:33<00:00,  1.74it/s]\n",
      "Epoch 2/50 [Validation]: 100%|███████████████████████████████████████████████████████| 159/159 [01:30<00:00,  1.75it/s]\n"
     ]
    },
    {
     "name": "stdout",
     "output_type": "stream",
     "text": [
      "[Epoch: 002/050] Train: loss=1.37516, acc=0.45572 \n",
      "                | Valid: loss=1.28930, acc=0.48306\n"
     ]
    },
    {
     "name": "stderr",
     "output_type": "stream",
     "text": [
      "Epoch 3/50 [Training]: 100%|█████████████████████████████████████████████████████████| 475/475 [04:35<00:00,  1.73it/s]\n",
      "Epoch 3/50 [Validation]: 100%|███████████████████████████████████████████████████████| 159/159 [01:30<00:00,  1.75it/s]\n"
     ]
    },
    {
     "name": "stdout",
     "output_type": "stream",
     "text": [
      "[Epoch: 003/050] Train: loss=1.28597, acc=0.49190 \n",
      "                | Valid: loss=1.21023, acc=0.51891\n"
     ]
    },
    {
     "name": "stderr",
     "output_type": "stream",
     "text": [
      "Epoch 4/50 [Training]: 100%|█████████████████████████████████████████████████████████| 475/475 [04:36<00:00,  1.72it/s]\n",
      "Epoch 4/50 [Validation]: 100%|███████████████████████████████████████████████████████| 159/159 [01:31<00:00,  1.73it/s]\n"
     ]
    },
    {
     "name": "stdout",
     "output_type": "stream",
     "text": [
      "[Epoch: 004/050] Train: loss=1.18740, acc=0.53986 \n",
      "                | Valid: loss=1.15704, acc=0.54446\n"
     ]
    },
    {
     "name": "stderr",
     "output_type": "stream",
     "text": [
      "Epoch 5/50 [Training]: 100%|█████████████████████████████████████████████████████████| 475/475 [04:41<00:00,  1.69it/s]\n",
      "Epoch 5/50 [Validation]: 100%|███████████████████████████████████████████████████████| 159/159 [01:31<00:00,  1.74it/s]\n"
     ]
    },
    {
     "name": "stdout",
     "output_type": "stream",
     "text": [
      "[Epoch: 005/050] Train: loss=1.08022, acc=0.58258 \n",
      "                | Valid: loss=1.03762, acc=0.60177\n"
     ]
    },
    {
     "name": "stderr",
     "output_type": "stream",
     "text": [
      "Epoch 6/50 [Training]: 100%|█████████████████████████████████████████████████████████| 475/475 [04:36<00:00,  1.72it/s]\n",
      "Epoch 6/50 [Validation]: 100%|███████████████████████████████████████████████████████| 159/159 [01:30<00:00,  1.77it/s]\n"
     ]
    },
    {
     "name": "stdout",
     "output_type": "stream",
     "text": [
      "[Epoch: 006/050] Train: loss=0.97095, acc=0.62706 \n",
      "                | Valid: loss=0.95506, acc=0.63369\n"
     ]
    },
    {
     "name": "stderr",
     "output_type": "stream",
     "text": [
      "Epoch 7/50 [Training]: 100%|█████████████████████████████████████████████████████████| 475/475 [04:36<00:00,  1.72it/s]\n",
      "Epoch 7/50 [Validation]: 100%|███████████████████████████████████████████████████████| 159/159 [01:29<00:00,  1.77it/s]\n"
     ]
    },
    {
     "name": "stdout",
     "output_type": "stream",
     "text": [
      "[Epoch: 007/050] Train: loss=0.86295, acc=0.67281 \n",
      "                | Valid: loss=0.88939, acc=0.65594\n"
     ]
    },
    {
     "name": "stderr",
     "output_type": "stream",
     "text": [
      "Epoch 8/50 [Training]: 100%|█████████████████████████████████████████████████████████| 475/475 [04:36<00:00,  1.72it/s]\n",
      "Epoch 8/50 [Validation]: 100%|███████████████████████████████████████████████████████| 159/159 [01:30<00:00,  1.76it/s]\n"
     ]
    },
    {
     "name": "stdout",
     "output_type": "stream",
     "text": [
      "[Epoch: 008/050] Train: loss=0.76234, acc=0.71390 \n",
      "                | Valid: loss=0.85042, acc=0.67060\n"
     ]
    },
    {
     "name": "stderr",
     "output_type": "stream",
     "text": [
      "Epoch 9/50 [Training]: 100%|█████████████████████████████████████████████████████████| 475/475 [04:36<00:00,  1.72it/s]\n",
      "Epoch 9/50 [Validation]: 100%|███████████████████████████████████████████████████████| 159/159 [01:31<00:00,  1.74it/s]\n"
     ]
    },
    {
     "name": "stdout",
     "output_type": "stream",
     "text": [
      "[Epoch: 009/050] Train: loss=0.68503, acc=0.74582 \n",
      "                | Valid: loss=0.81565, acc=0.69344\n"
     ]
    },
    {
     "name": "stderr",
     "output_type": "stream",
     "text": [
      "Epoch 10/50 [Training]: 100%|████████████████████████████████████████████████████████| 475/475 [04:35<00:00,  1.72it/s]\n",
      "Epoch 10/50 [Validation]: 100%|██████████████████████████████████████████████████████| 159/159 [01:30<00:00,  1.76it/s]\n"
     ]
    },
    {
     "name": "stdout",
     "output_type": "stream",
     "text": [
      "[Epoch: 010/050] Train: loss=0.61112, acc=0.77422 \n",
      "                | Valid: loss=0.84505, acc=0.70861\n"
     ]
    },
    {
     "name": "stderr",
     "output_type": "stream",
     "text": [
      "Epoch 11/50 [Training]: 100%|████████████████████████████████████████████████████████| 475/475 [04:39<00:00,  1.70it/s]\n",
      "Epoch 11/50 [Validation]: 100%|██████████████████████████████████████████████████████| 159/159 [01:31<00:00,  1.74it/s]\n"
     ]
    },
    {
     "name": "stdout",
     "output_type": "stream",
     "text": [
      "[Epoch: 011/050] Train: loss=0.53479, acc=0.80313 \n",
      "                | Valid: loss=0.83943, acc=0.71344\n"
     ]
    },
    {
     "name": "stderr",
     "output_type": "stream",
     "text": [
      "Epoch 12/50 [Training]: 100%|████████████████████████████████████████████████████████| 475/475 [04:38<00:00,  1.70it/s]\n",
      "Epoch 12/50 [Validation]: 100%|██████████████████████████████████████████████████████| 159/159 [01:30<00:00,  1.75it/s]\n"
     ]
    },
    {
     "name": "stdout",
     "output_type": "stream",
     "text": [
      "[Epoch: 012/050] Train: loss=0.48202, acc=0.82103 \n",
      "                | Valid: loss=0.79548, acc=0.72869\n"
     ]
    },
    {
     "name": "stderr",
     "output_type": "stream",
     "text": [
      "Epoch 13/50 [Training]: 100%|████████████████████████████████████████████████████████| 475/475 [04:37<00:00,  1.71it/s]\n",
      "Epoch 13/50 [Validation]: 100%|██████████████████████████████████████████████████████| 159/159 [01:31<00:00,  1.73it/s]\n"
     ]
    },
    {
     "name": "stdout",
     "output_type": "stream",
     "text": [
      "[Epoch: 013/050] Train: loss=0.43632, acc=0.84268 \n",
      "                | Valid: loss=0.81815, acc=0.72964\n"
     ]
    },
    {
     "name": "stderr",
     "output_type": "stream",
     "text": [
      "Epoch 14/50 [Training]: 100%|████████████████████████████████████████████████████████| 475/475 [04:42<00:00,  1.68it/s]\n",
      "Epoch 14/50 [Validation]: 100%|██████████████████████████████████████████████████████| 159/159 [01:33<00:00,  1.70it/s]\n"
     ]
    },
    {
     "name": "stdout",
     "output_type": "stream",
     "text": [
      "[Epoch: 014/050] Train: loss=0.39557, acc=0.85854 \n",
      "                | Valid: loss=0.81350, acc=0.75051\n"
     ]
    },
    {
     "name": "stderr",
     "output_type": "stream",
     "text": [
      "Epoch 15/50 [Training]: 100%|████████████████████████████████████████████████████████| 475/475 [04:42<00:00,  1.68it/s]\n",
      "Epoch 15/50 [Validation]: 100%|██████████████████████████████████████████████████████| 159/159 [01:30<00:00,  1.75it/s]\n"
     ]
    },
    {
     "name": "stdout",
     "output_type": "stream",
     "text": [
      "[Epoch: 015/050] Train: loss=0.35683, acc=0.87293 \n",
      "                | Valid: loss=0.84819, acc=0.74803\n"
     ]
    },
    {
     "name": "stderr",
     "output_type": "stream",
     "text": [
      "Epoch 16/50 [Training]: 100%|████████████████████████████████████████████████████████| 475/475 [04:43<00:00,  1.68it/s]\n",
      "Epoch 16/50 [Validation]: 100%|██████████████████████████████████████████████████████| 159/159 [01:32<00:00,  1.72it/s]\n"
     ]
    },
    {
     "name": "stdout",
     "output_type": "stream",
     "text": [
      "[Epoch: 016/050] Train: loss=0.31806, acc=0.88742 \n",
      "                | Valid: loss=0.80573, acc=0.75857\n"
     ]
    },
    {
     "name": "stderr",
     "output_type": "stream",
     "text": [
      "Epoch 17/50 [Training]: 100%|████████████████████████████████████████████████████████| 475/475 [04:40<00:00,  1.69it/s]\n",
      "Epoch 17/50 [Validation]: 100%|██████████████████████████████████████████████████████| 159/159 [01:31<00:00,  1.73it/s]\n"
     ]
    },
    {
     "name": "stdout",
     "output_type": "stream",
     "text": [
      "[Epoch: 017/050] Train: loss=0.29449, acc=0.89879 \n",
      "                | Valid: loss=0.82916, acc=0.76502\n"
     ]
    },
    {
     "name": "stderr",
     "output_type": "stream",
     "text": [
      "Epoch 18/50 [Training]: 100%|████████████████████████████████████████████████████████| 475/475 [04:41<00:00,  1.69it/s]\n",
      "Epoch 18/50 [Validation]: 100%|██████████████████████████████████████████████████████| 159/159 [01:32<00:00,  1.72it/s]\n"
     ]
    },
    {
     "name": "stdout",
     "output_type": "stream",
     "text": [
      "[Epoch: 018/050] Train: loss=0.26395, acc=0.90835 \n",
      "                | Valid: loss=1.00987, acc=0.73675\n"
     ]
    },
    {
     "name": "stderr",
     "output_type": "stream",
     "text": [
      "Epoch 19/50 [Training]: 100%|████████████████████████████████████████████████████████| 475/475 [04:41<00:00,  1.69it/s]\n",
      "Epoch 19/50 [Validation]: 100%|██████████████████████████████████████████████████████| 159/159 [01:31<00:00,  1.74it/s]\n"
     ]
    },
    {
     "name": "stdout",
     "output_type": "stream",
     "text": [
      "[Epoch: 019/050] Train: loss=0.26132, acc=0.90926 \n",
      "                | Valid: loss=0.85530, acc=0.77759\n"
     ]
    },
    {
     "name": "stderr",
     "output_type": "stream",
     "text": [
      "Epoch 20/50 [Training]: 100%|████████████████████████████████████████████████████████| 475/475 [04:40<00:00,  1.69it/s]\n",
      "Epoch 20/50 [Validation]: 100%|██████████████████████████████████████████████████████| 159/159 [01:31<00:00,  1.73it/s]\n"
     ]
    },
    {
     "name": "stdout",
     "output_type": "stream",
     "text": [
      "[Epoch: 020/050] Train: loss=0.23876, acc=0.91545 \n",
      "                | Valid: loss=0.82026, acc=0.76191\n"
     ]
    },
    {
     "name": "stderr",
     "output_type": "stream",
     "text": [
      "Epoch 21/50 [Training]: 100%|████████████████████████████████████████████████████████| 475/475 [04:42<00:00,  1.68it/s]\n",
      "Epoch 21/50 [Validation]: 100%|██████████████████████████████████████████████████████| 159/159 [01:31<00:00,  1.74it/s]\n"
     ]
    },
    {
     "name": "stdout",
     "output_type": "stream",
     "text": [
      "[Epoch: 021/050] Train: loss=0.21850, acc=0.92315 \n",
      "                | Valid: loss=0.81931, acc=0.77704\n"
     ]
    },
    {
     "name": "stderr",
     "output_type": "stream",
     "text": [
      "Epoch 22/50 [Training]: 100%|████████████████████████████████████████████████████████| 475/475 [04:40<00:00,  1.70it/s]\n",
      "Epoch 22/50 [Validation]: 100%|██████████████████████████████████████████████████████| 159/159 [01:31<00:00,  1.74it/s]\n"
     ]
    },
    {
     "name": "stdout",
     "output_type": "stream",
     "text": [
      "[Epoch: 022/050] Train: loss=0.19990, acc=0.93125 \n",
      "                | Valid: loss=0.84408, acc=0.78274\n"
     ]
    },
    {
     "name": "stderr",
     "output_type": "stream",
     "text": [
      "Epoch 23/50 [Training]: 100%|████████████████████████████████████████████████████████| 475/475 [04:45<00:00,  1.66it/s]\n",
      "Epoch 23/50 [Validation]: 100%|██████████████████████████████████████████████████████| 159/159 [01:34<00:00,  1.68it/s]\n"
     ]
    },
    {
     "name": "stdout",
     "output_type": "stream",
     "text": [
      "[Epoch: 023/050] Train: loss=0.19825, acc=0.93269 \n",
      "                | Valid: loss=0.84712, acc=0.76954\n"
     ]
    },
    {
     "name": "stderr",
     "output_type": "stream",
     "text": [
      "Epoch 24/50 [Training]: 100%|████████████████████████████████████████████████████████| 475/475 [04:45<00:00,  1.66it/s]\n",
      "Epoch 24/50 [Validation]: 100%|██████████████████████████████████████████████████████| 159/159 [01:32<00:00,  1.71it/s]\n"
     ]
    },
    {
     "name": "stdout",
     "output_type": "stream",
     "text": [
      "[Epoch: 024/050] Train: loss=0.17371, acc=0.94177 \n",
      "                | Valid: loss=0.89352, acc=0.78943\n"
     ]
    },
    {
     "name": "stderr",
     "output_type": "stream",
     "text": [
      "Epoch 25/50 [Training]: 100%|████████████████████████████████████████████████████████| 475/475 [04:42<00:00,  1.68it/s]\n",
      "Epoch 25/50 [Validation]: 100%|██████████████████████████████████████████████████████| 159/159 [01:32<00:00,  1.71it/s]\n"
     ]
    },
    {
     "name": "stdout",
     "output_type": "stream",
     "text": [
      "[Epoch: 025/050] Train: loss=0.17208, acc=0.94019 \n",
      "                | Valid: loss=0.93829, acc=0.76859\n"
     ]
    },
    {
     "name": "stderr",
     "output_type": "stream",
     "text": [
      "Epoch 26/50 [Training]: 100%|████████████████████████████████████████████████████████| 475/475 [04:41<00:00,  1.69it/s]\n",
      "Epoch 26/50 [Validation]: 100%|██████████████████████████████████████████████████████| 159/159 [01:32<00:00,  1.73it/s]\n"
     ]
    },
    {
     "name": "stdout",
     "output_type": "stream",
     "text": [
      "[Epoch: 026/050] Train: loss=0.17942, acc=0.93919 \n",
      "                | Valid: loss=0.94450, acc=0.76686\n"
     ]
    },
    {
     "name": "stderr",
     "output_type": "stream",
     "text": [
      "Epoch 27/50 [Training]: 100%|████████████████████████████████████████████████████████| 475/475 [04:50<00:00,  1.63it/s]\n",
      "Epoch 27/50 [Validation]: 100%|██████████████████████████████████████████████████████| 159/159 [01:34<00:00,  1.68it/s]\n"
     ]
    },
    {
     "name": "stdout",
     "output_type": "stream",
     "text": [
      "[Epoch: 027/050] Train: loss=0.16091, acc=0.94710 \n",
      "                | Valid: loss=0.92836, acc=0.77763\n"
     ]
    },
    {
     "name": "stderr",
     "output_type": "stream",
     "text": [
      "Epoch 28/50 [Training]: 100%|████████████████████████████████████████████████████████| 475/475 [04:55<00:00,  1.61it/s]\n",
      "Epoch 28/50 [Validation]: 100%|██████████████████████████████████████████████████████| 159/159 [01:36<00:00,  1.64it/s]\n"
     ]
    },
    {
     "name": "stdout",
     "output_type": "stream",
     "text": [
      "[Epoch: 028/050] Train: loss=0.15587, acc=0.94868 \n",
      "                | Valid: loss=0.87084, acc=0.78821\n"
     ]
    },
    {
     "name": "stderr",
     "output_type": "stream",
     "text": [
      "Epoch 29/50 [Training]: 100%|████████████████████████████████████████████████████████| 475/475 [04:56<00:00,  1.60it/s]\n",
      "Epoch 29/50 [Validation]: 100%|██████████████████████████████████████████████████████| 159/159 [01:36<00:00,  1.64it/s]\n"
     ]
    },
    {
     "name": "stdout",
     "output_type": "stream",
     "text": [
      "Early stopping triggered. No improvement in validation accuracy.\n",
      "Accuracy: 0.7040\n",
      "Precision: 0.7005\n",
      "Recall: 0.7095\n",
      "AUC: 0.9425\n"
     ]
    }
   ],
   "source": [
    "# Training parameters\n",
    "start_time = time.time()\n",
    "model = spatmodel\n",
    "optimizer = torch.optim.Adam(model.parameters(), lr=0.001)\n",
    "n_epochs = 50\n",
    "patience = 5\n",
    "valid_loader = aug_val_loader\n",
    "# Lists to store epoch metrics\n",
    "best_valid_acc = 0\n",
    "train_loss_epochs = []\n",
    "train_acc_epochs = []\n",
    "valid_loss_epochs = []\n",
    "valid_acc_epochs = []\n",
    "\n",
    "# Early stopping counter\n",
    "counter = 0\n",
    "\n",
    "# Lists to store true labels and predictions for confusion matrix and metrics\n",
    "all_labels = []\n",
    "all_preds = []\n",
    "all_probs = []\n",
    "\n",
    "for epoch in range(n_epochs):\n",
    "    # ---------- Training ----------\n",
    "    model.train()\n",
    "    train_loss = []\n",
    "    train_accs = []\n",
    "\n",
    "    for batch in tqdm(aug_train_loader, desc=f\"Epoch {epoch+1}/{n_epochs} [Training]\"):\n",
    "        optimizer.zero_grad()\n",
    "        imgs, labels = batch\n",
    "        imgs = imgs.to(device)\n",
    "        labels = labels.to(device)\n",
    "        logits = model(imgs)\n",
    "        loss = criterion(logits, labels)\n",
    "        loss.backward()\n",
    "        optimizer.step()\n",
    "        acc = (logits.argmax(dim=-1) == labels).float().mean()\n",
    "        train_loss.append(loss.item())\n",
    "        train_accs.append(acc.item())\n",
    "\n",
    "    train_loss = sum(train_loss) / len(train_loss)\n",
    "    train_acc = sum(train_accs) / len(train_accs)\n",
    "    train_loss_epochs.append(train_loss)\n",
    "    train_acc_epochs.append(train_acc)\n",
    "\n",
    "    # ---------- Validation ----------\n",
    "    model.eval()\n",
    "    valid_loss = []\n",
    "    valid_accs = []\n",
    "\n",
    "    # Clear lists to store labels and predictions for this epoch\n",
    "    epoch_labels = []\n",
    "    epoch_preds = []\n",
    "    epoch_probs = []\n",
    "\n",
    "    for batch in tqdm(valid_loader, desc=f\"Epoch {epoch+1}/{n_epochs} [Validation]\"):\n",
    "        imgs, labels = batch\n",
    "        imgs = imgs.to(device)\n",
    "        labels = labels.to(device)\n",
    "\n",
    "        with torch.no_grad():\n",
    "            logits = model(imgs)\n",
    "        loss = criterion(logits, labels)\n",
    "        acc = (logits.argmax(dim=-1) == labels).float().mean()\n",
    "        valid_loss.append(loss.item())\n",
    "        valid_accs.append(acc.item())\n",
    "\n",
    "        # Store predictions and labels for confusion matrix and metrics\n",
    "        epoch_preds.extend(logits.argmax(dim=-1).cpu().numpy().tolist())\n",
    "        epoch_labels.extend(labels.cpu().numpy().tolist())\n",
    "        epoch_probs.extend(torch.nn.functional.softmax(logits, dim=1).cpu().numpy().tolist())  # Collect all probabilities\n",
    "\n",
    "    valid_loss = sum(valid_loss) / len(valid_loss)\n",
    "    valid_acc = sum(valid_accs) / len(valid_accs)\n",
    "    valid_loss_epochs.append(valid_loss)\n",
    "    valid_acc_epochs.append(valid_acc)\n",
    "\n",
    "    # Update the overall lists for confusion matrix and metrics\n",
    "    all_labels.extend(epoch_labels)\n",
    "    all_preds.extend(epoch_preds)\n",
    "    all_probs.extend(epoch_probs)  # Accumulate probabilities for all classes\n",
    "\n",
    "    # Save the best model based on validation accuracy\n",
    "    if valid_acc > best_valid_acc:\n",
    "        best_valid_acc = valid_acc\n",
    "        torch.save(model.state_dict(), 'best_model.pth')\n",
    "        counter = 0  # Reset counter when there's an improvement\n",
    "    else:\n",
    "        counter += 1  # Increment counter when there's no improvement\n",
    "        if counter >= patience:\n",
    "            print(\"Early stopping triggered. No improvement in validation accuracy.\")\n",
    "            break\n",
    "\n",
    "    # Print the information\n",
    "    print(f\"\"\"[Epoch: {epoch + 1:03d}/{n_epochs:03d}] Train: loss={train_loss:.5f}, acc={train_acc:.5f} \n",
    "                | Valid: loss={valid_loss:.5f}, acc={valid_acc:.5f}\"\"\")\n",
    "\n",
    "# After training, compute metrics\n",
    "accuracy = accuracy_score(all_labels, all_preds)\n",
    "precision = precision_score(all_labels, all_preds, average='macro')  # Use 'macro' for multi-class\n",
    "recall = recall_score(all_labels, all_preds, average='macro')        # Use 'macro' for multi-class\n",
    "auc = roc_auc_score(all_labels, all_probs, multi_class='ovr')        # Use 'ovr' for multi-class AUC\n",
    "\n",
    "print(f'Accuracy: {accuracy:.4f}')\n",
    "print(f'Precision: {precision:.4f}')\n",
    "print(f'Recall: {recall:.4f}')\n",
    "print(f'AUC: {auc:.4f}')\n",
    "\n",
    "# Compute and display the confusion matrix\n",
    "cm = confusion_matrix(all_labels, all_preds)\n",
    "disp = ConfusionMatrixDisplay(confusion_matrix=cm, display_labels=class_names)\n",
    "disp.plot(cmap=plt.cm.Blues)\n",
    "plt.title(\"Confusion Matrix\")\n",
    "plt.xticks(rotation=90)\n",
    "buf_cm = plot_to_buffer()\n",
    "plt.close()  # Close the plot to free memory\n",
    "\n",
    "# Loss curves plot\n",
    "plt.figure()\n",
    "plt.plot(train_loss_epochs, label='Train Loss')\n",
    "plt.plot(valid_loss_epochs, label='Validation Loss')\n",
    "plt.xlabel('Epochs')\n",
    "plt.ylabel('Loss')\n",
    "plt.title('Train and Validation Loss')\n",
    "plt.legend()\n",
    "buf_loss = plot_to_buffer()\n",
    "plt.close()  # Close the plot to free memory\n",
    "\n",
    "# Accuracy curves plot\n",
    "plt.figure()\n",
    "plt.plot(train_acc_epochs, label='Train Accuracy')\n",
    "plt.plot(valid_acc_epochs, label='Validation Accuracy')\n",
    "plt.xlabel('Epochs')\n",
    "plt.ylabel('Accuracy')\n",
    "plt.title('Train and Validation Accuracy')\n",
    "plt.legend()\n",
    "buf_acc = plot_to_buffer()\n",
    "plt.close() "
   ]
  },
  {
   "cell_type": "code",
   "execution_count": 27,
   "id": "8810a415-0ef5-4b92-9906-6ac683abe9ee",
   "metadata": {},
   "outputs": [
    {
     "name": "stderr",
     "output_type": "stream",
     "text": [
      "100%|████████████████████████████████████████████████████████████████████████████████| 159/159 [01:40<00:00,  1.58it/s]"
     ]
    },
    {
     "name": "stdout",
     "output_type": "stream",
     "text": [
      "Test accuracy 0.7765687108039856\n"
     ]
    },
    {
     "name": "stderr",
     "output_type": "stream",
     "text": [
      "\n"
     ]
    }
   ],
   "source": [
    "model.load_state_dict(torch.load('best_model.pth'))\n",
    "\n",
    "# Make sure the model is in eval mode.\n",
    "# Some modules like Dropout or BatchNorm affect if the model is in training mode.\n",
    "model.eval()\n",
    "\n",
    "test_accs = []\n",
    "\n",
    "# Iterate the testing set by batches.\n",
    "for batch in tqdm(aug_test_loader):\n",
    "    # A batch consists of image data and corresponding labels.\n",
    "    imgs, labels = batch\n",
    "    imgs = imgs.to(device)\n",
    "    labels = labels.to(device)\n",
    "\n",
    "    # We don't need gradient in test\n",
    "    # Using torch.no_grad() accelerates the forward process.\n",
    "    with torch.no_grad():\n",
    "      logits = model(imgs)\n",
    "\n",
    "    # We can still compute the loss (but not the gradient).\n",
    "    loss = criterion(logits, labels)\n",
    "\n",
    "    # Compute the accuracy for current batch.\n",
    "    acc = (logits.argmax(dim=-1) == labels).float().mean()\n",
    "\n",
    "    # Record accuracy.\n",
    "    test_accs.append(acc)\n",
    "\n",
    "# The average accuracy for entire test set is the average of the recorded values.\n",
    "test_acc = sum(test_accs) / len(test_accs)\n",
    "print(f'Test accuracy {test_acc}')"
   ]
  },
  {
   "cell_type": "code",
   "execution_count": 28,
   "id": "c3f8096e-0e0f-451f-a059-91a774ac35ab",
   "metadata": {},
   "outputs": [
    {
     "name": "stdout",
     "output_type": "stream",
     "text": [
      "Email sent successfully!\n"
     ]
    }
   ],
   "source": [
    "end_time = time.time()\n",
    "elapsed_time = end_time - start_time\n",
    "formatted_time = time.strftime(\"%H:%M:%S\", time.gmtime(elapsed_time))\n",
    "\n",
    "body = f\"\"\"Spatial attention CNN has completed training. \\n\n",
    "        Completed at {formatted_timestamp} \n",
    "        Time taken to run: {formatted_time}\n",
    "        Accuracy: {accuracy}\n",
    "        Precision: {precision}\n",
    "        Recall: {recall}\n",
    "        AUC: {auc}\n",
    "        Best Validation Accuracy: {max(valid_acc_epochs)}\n",
    "        Test Accuracy: {test_acc}\n",
    "        \"\"\"\n",
    "\n",
    "attachments = [\n",
    "    {'buffer': buf_cm, 'filename': 'confusion_matrix.png'},\n",
    "    {'buffer': buf_loss, 'filename': 'loss_curves.png'},\n",
    "    {'buffer': buf_acc, 'filename': 'accuracy_curves.png'}\n",
    "]\n",
    "\n",
    "send_email(from_address, to_address, subject, body, smtp_server, smtp_port, login, password, attachments)\n",
    "clear_cuda()"
   ]
  },
  {
   "cell_type": "markdown",
   "id": "37711e07-b519-4b0a-9808-426e07107800",
   "metadata": {},
   "source": [
    "CNN with Channel Attention mechanism"
   ]
  },
  {
   "cell_type": "code",
   "execution_count": 30,
   "id": "e49e028c-bd6c-436e-8188-0f5bb50850b1",
   "metadata": {},
   "outputs": [
    {
     "name": "stderr",
     "output_type": "stream",
     "text": [
      "Epoch 1/50 [Training]: 100%|█████████████████████████████████████████████████████████| 475/475 [04:48<00:00,  1.64it/s]\n",
      "Epoch 1/50 [Validation]: 100%|███████████████████████████████████████████████████████| 159/159 [01:33<00:00,  1.70it/s]\n"
     ]
    },
    {
     "name": "stdout",
     "output_type": "stream",
     "text": [
      "[Epoch: 001/050] Train: loss=1.03585, acc=0.60365 \n",
      "                | Valid: loss=1.28394, acc=0.50012\n"
     ]
    },
    {
     "name": "stderr",
     "output_type": "stream",
     "text": [
      "Epoch 2/50 [Training]: 100%|█████████████████████████████████████████████████████████| 475/475 [05:03<00:00,  1.57it/s]\n",
      "Epoch 2/50 [Validation]: 100%|███████████████████████████████████████████████████████| 159/159 [03:06<00:00,  1.18s/it]\n"
     ]
    },
    {
     "name": "stdout",
     "output_type": "stream",
     "text": [
      "[Epoch: 002/050] Train: loss=0.92651, acc=0.64267 \n",
      "                | Valid: loss=1.09097, acc=0.59045\n"
     ]
    },
    {
     "name": "stderr",
     "output_type": "stream",
     "text": [
      "Epoch 3/50 [Training]: 100%|█████████████████████████████████████████████████████████| 475/475 [08:13<00:00,  1.04s/it]\n",
      "Epoch 3/50 [Validation]: 100%|███████████████████████████████████████████████████████| 159/159 [02:06<00:00,  1.26it/s]\n"
     ]
    },
    {
     "name": "stdout",
     "output_type": "stream",
     "text": [
      "[Epoch: 003/050] Train: loss=0.82267, acc=0.68582 \n",
      "                | Valid: loss=1.02767, acc=0.61026\n"
     ]
    },
    {
     "name": "stderr",
     "output_type": "stream",
     "text": [
      "Epoch 4/50 [Training]: 100%|█████████████████████████████████████████████████████████| 475/475 [09:01<00:00,  1.14s/it]\n",
      "Epoch 4/50 [Validation]: 100%|███████████████████████████████████████████████████████| 159/159 [02:40<00:00,  1.01s/it]\n"
     ]
    },
    {
     "name": "stdout",
     "output_type": "stream",
     "text": [
      "[Epoch: 004/050] Train: loss=0.73759, acc=0.72187 \n",
      "                | Valid: loss=1.01150, acc=0.61997\n"
     ]
    },
    {
     "name": "stderr",
     "output_type": "stream",
     "text": [
      "Epoch 5/50 [Training]: 100%|█████████████████████████████████████████████████████████| 475/475 [09:14<00:00,  1.17s/it]\n",
      "Epoch 5/50 [Validation]: 100%|███████████████████████████████████████████████████████| 159/159 [02:40<00:00,  1.01s/it]\n"
     ]
    },
    {
     "name": "stdout",
     "output_type": "stream",
     "text": [
      "[Epoch: 005/050] Train: loss=0.66649, acc=0.74463 \n",
      "                | Valid: loss=1.04290, acc=0.60668\n"
     ]
    },
    {
     "name": "stderr",
     "output_type": "stream",
     "text": [
      "Epoch 6/50 [Training]: 100%|█████████████████████████████████████████████████████████| 475/475 [08:47<00:00,  1.11s/it]\n",
      "Epoch 6/50 [Validation]: 100%|███████████████████████████████████████████████████████| 159/159 [02:04<00:00,  1.28it/s]\n"
     ]
    },
    {
     "name": "stdout",
     "output_type": "stream",
     "text": [
      "[Epoch: 006/050] Train: loss=0.60602, acc=0.77051 \n",
      "                | Valid: loss=0.83308, acc=0.68817\n"
     ]
    },
    {
     "name": "stderr",
     "output_type": "stream",
     "text": [
      "Epoch 7/50 [Training]: 100%|█████████████████████████████████████████████████████████| 475/475 [08:00<00:00,  1.01s/it]\n",
      "Epoch 7/50 [Validation]: 100%|███████████████████████████████████████████████████████| 159/159 [02:43<00:00,  1.03s/it]\n"
     ]
    },
    {
     "name": "stdout",
     "output_type": "stream",
     "text": [
      "[Epoch: 007/050] Train: loss=0.55242, acc=0.79221 \n",
      "                | Valid: loss=0.99068, acc=0.63459\n"
     ]
    },
    {
     "name": "stderr",
     "output_type": "stream",
     "text": [
      "Epoch 8/50 [Training]: 100%|█████████████████████████████████████████████████████████| 475/475 [08:33<00:00,  1.08s/it]\n",
      "Epoch 8/50 [Validation]: 100%|███████████████████████████████████████████████████████| 159/159 [02:33<00:00,  1.03it/s]\n"
     ]
    },
    {
     "name": "stdout",
     "output_type": "stream",
     "text": [
      "[Epoch: 008/050] Train: loss=0.51057, acc=0.81157 \n",
      "                | Valid: loss=1.02393, acc=0.65448\n"
     ]
    },
    {
     "name": "stderr",
     "output_type": "stream",
     "text": [
      "Epoch 9/50 [Training]: 100%|█████████████████████████████████████████████████████████| 475/475 [08:20<00:00,  1.05s/it]\n",
      "Epoch 9/50 [Validation]: 100%|███████████████████████████████████████████████████████| 159/159 [02:30<00:00,  1.05it/s]\n"
     ]
    },
    {
     "name": "stdout",
     "output_type": "stream",
     "text": [
      "[Epoch: 009/050] Train: loss=0.46827, acc=0.82247 \n",
      "                | Valid: loss=0.85188, acc=0.72182\n"
     ]
    },
    {
     "name": "stderr",
     "output_type": "stream",
     "text": [
      "Epoch 10/50 [Training]: 100%|████████████████████████████████████████████████████████| 475/475 [06:51<00:00,  1.16it/s]\n",
      "Epoch 10/50 [Validation]: 100%|██████████████████████████████████████████████████████| 159/159 [02:02<00:00,  1.30it/s]\n"
     ]
    },
    {
     "name": "stdout",
     "output_type": "stream",
     "text": [
      "[Epoch: 010/050] Train: loss=0.40970, acc=0.84596 \n",
      "                | Valid: loss=0.85755, acc=0.72410\n"
     ]
    },
    {
     "name": "stderr",
     "output_type": "stream",
     "text": [
      "Epoch 11/50 [Training]: 100%|████████████████████████████████████████████████████████| 475/475 [06:24<00:00,  1.24it/s]\n",
      "Epoch 11/50 [Validation]: 100%|██████████████████████████████████████████████████████| 159/159 [01:59<00:00,  1.33it/s]\n"
     ]
    },
    {
     "name": "stdout",
     "output_type": "stream",
     "text": [
      "[Epoch: 011/050] Train: loss=0.38101, acc=0.86011 \n",
      "                | Valid: loss=0.85426, acc=0.73286\n"
     ]
    },
    {
     "name": "stderr",
     "output_type": "stream",
     "text": [
      "Epoch 12/50 [Training]: 100%|████████████████████████████████████████████████████████| 475/475 [06:24<00:00,  1.23it/s]\n",
      "Epoch 12/50 [Validation]: 100%|██████████████████████████████████████████████████████| 159/159 [01:59<00:00,  1.33it/s]\n"
     ]
    },
    {
     "name": "stdout",
     "output_type": "stream",
     "text": [
      "[Epoch: 012/050] Train: loss=0.34605, acc=0.87458 \n",
      "                | Valid: loss=1.14068, acc=0.63895\n"
     ]
    },
    {
     "name": "stderr",
     "output_type": "stream",
     "text": [
      "Epoch 13/50 [Training]: 100%|████████████████████████████████████████████████████████| 475/475 [05:54<00:00,  1.34it/s]\n",
      "Epoch 13/50 [Validation]: 100%|██████████████████████████████████████████████████████| 159/159 [01:36<00:00,  1.64it/s]\n"
     ]
    },
    {
     "name": "stdout",
     "output_type": "stream",
     "text": [
      "[Epoch: 013/050] Train: loss=0.32218, acc=0.88333 \n",
      "                | Valid: loss=1.09185, acc=0.70468\n"
     ]
    },
    {
     "name": "stderr",
     "output_type": "stream",
     "text": [
      "Epoch 14/50 [Training]: 100%|████████████████████████████████████████████████████████| 475/475 [04:54<00:00,  1.61it/s]\n",
      "Epoch 14/50 [Validation]: 100%|██████████████████████████████████████████████████████| 159/159 [01:34<00:00,  1.67it/s]\n"
     ]
    },
    {
     "name": "stdout",
     "output_type": "stream",
     "text": [
      "[Epoch: 014/050] Train: loss=0.29595, acc=0.89418 \n",
      "                | Valid: loss=0.79201, acc=0.77402\n"
     ]
    },
    {
     "name": "stderr",
     "output_type": "stream",
     "text": [
      "Epoch 15/50 [Training]: 100%|████████████████████████████████████████████████████████| 475/475 [04:47<00:00,  1.65it/s]\n",
      "Epoch 15/50 [Validation]: 100%|██████████████████████████████████████████████████████| 159/159 [01:34<00:00,  1.69it/s]\n"
     ]
    },
    {
     "name": "stdout",
     "output_type": "stream",
     "text": [
      "[Epoch: 015/050] Train: loss=0.27173, acc=0.90234 \n",
      "                | Valid: loss=1.10257, acc=0.69536\n"
     ]
    },
    {
     "name": "stderr",
     "output_type": "stream",
     "text": [
      "Epoch 16/50 [Training]: 100%|████████████████████████████████████████████████████████| 475/475 [04:45<00:00,  1.66it/s]\n",
      "Epoch 16/50 [Validation]: 100%|██████████████████████████████████████████████████████| 159/159 [01:33<00:00,  1.70it/s]\n"
     ]
    },
    {
     "name": "stdout",
     "output_type": "stream",
     "text": [
      "[Epoch: 016/050] Train: loss=0.25475, acc=0.91064 \n",
      "                | Valid: loss=0.83273, acc=0.76388\n"
     ]
    },
    {
     "name": "stderr",
     "output_type": "stream",
     "text": [
      "Epoch 17/50 [Training]: 100%|████████████████████████████████████████████████████████| 475/475 [04:45<00:00,  1.66it/s]\n",
      "Epoch 17/50 [Validation]: 100%|██████████████████████████████████████████████████████| 159/159 [01:33<00:00,  1.70it/s]\n"
     ]
    },
    {
     "name": "stdout",
     "output_type": "stream",
     "text": [
      "[Epoch: 017/050] Train: loss=0.23984, acc=0.91366 \n",
      "                | Valid: loss=0.87729, acc=0.76659\n"
     ]
    },
    {
     "name": "stderr",
     "output_type": "stream",
     "text": [
      "Epoch 18/50 [Training]: 100%|████████████████████████████████████████████████████████| 475/475 [04:46<00:00,  1.66it/s]\n",
      "Epoch 18/50 [Validation]: 100%|██████████████████████████████████████████████████████| 159/159 [01:34<00:00,  1.69it/s]\n"
     ]
    },
    {
     "name": "stdout",
     "output_type": "stream",
     "text": [
      "[Epoch: 018/050] Train: loss=0.22487, acc=0.92111 \n",
      "                | Valid: loss=1.01056, acc=0.73204\n"
     ]
    },
    {
     "name": "stderr",
     "output_type": "stream",
     "text": [
      "Epoch 19/50 [Training]: 100%|████████████████████████████████████████████████████████| 475/475 [04:45<00:00,  1.67it/s]\n",
      "Epoch 19/50 [Validation]: 100%|██████████████████████████████████████████████████████| 159/159 [01:34<00:00,  1.68it/s]\n"
     ]
    },
    {
     "name": "stdout",
     "output_type": "stream",
     "text": [
      "[Epoch: 019/050] Train: loss=0.20519, acc=0.92776 \n",
      "                | Valid: loss=0.83836, acc=0.78884\n"
     ]
    },
    {
     "name": "stderr",
     "output_type": "stream",
     "text": [
      "Epoch 20/50 [Training]: 100%|████████████████████████████████████████████████████████| 475/475 [04:46<00:00,  1.66it/s]\n",
      "Epoch 20/50 [Validation]: 100%|██████████████████████████████████████████████████████| 159/159 [01:32<00:00,  1.72it/s]\n"
     ]
    },
    {
     "name": "stdout",
     "output_type": "stream",
     "text": [
      "[Epoch: 020/050] Train: loss=0.20646, acc=0.92926 \n",
      "                | Valid: loss=0.91413, acc=0.75401\n"
     ]
    },
    {
     "name": "stderr",
     "output_type": "stream",
     "text": [
      "Epoch 21/50 [Training]: 100%|████████████████████████████████████████████████████████| 475/475 [04:46<00:00,  1.66it/s]\n",
      "Epoch 21/50 [Validation]: 100%|██████████████████████████████████████████████████████| 159/159 [01:33<00:00,  1.70it/s]\n"
     ]
    },
    {
     "name": "stdout",
     "output_type": "stream",
     "text": [
      "[Epoch: 021/050] Train: loss=0.18385, acc=0.93611 \n",
      "                | Valid: loss=1.40452, acc=0.67842\n"
     ]
    },
    {
     "name": "stderr",
     "output_type": "stream",
     "text": [
      "Epoch 22/50 [Training]: 100%|████████████████████████████████████████████████████████| 475/475 [04:48<00:00,  1.65it/s]\n",
      "Epoch 22/50 [Validation]: 100%|██████████████████████████████████████████████████████| 159/159 [01:36<00:00,  1.66it/s]\n"
     ]
    },
    {
     "name": "stdout",
     "output_type": "stream",
     "text": [
      "[Epoch: 022/050] Train: loss=0.17880, acc=0.93927 \n",
      "                | Valid: loss=0.87900, acc=0.78817\n"
     ]
    },
    {
     "name": "stderr",
     "output_type": "stream",
     "text": [
      "Epoch 23/50 [Training]: 100%|████████████████████████████████████████████████████████| 475/475 [04:47<00:00,  1.65it/s]\n",
      "Epoch 23/50 [Validation]: 100%|██████████████████████████████████████████████████████| 159/159 [01:33<00:00,  1.70it/s]\n"
     ]
    },
    {
     "name": "stdout",
     "output_type": "stream",
     "text": [
      "[Epoch: 023/050] Train: loss=0.17802, acc=0.93776 \n",
      "                | Valid: loss=1.11503, acc=0.72630\n"
     ]
    },
    {
     "name": "stderr",
     "output_type": "stream",
     "text": [
      "Epoch 24/50 [Training]: 100%|████████████████████████████████████████████████████████| 475/475 [04:45<00:00,  1.66it/s]\n",
      "Epoch 24/50 [Validation]: 100%|██████████████████████████████████████████████████████| 159/159 [01:33<00:00,  1.70it/s]\n"
     ]
    },
    {
     "name": "stdout",
     "output_type": "stream",
     "text": [
      "[Epoch: 024/050] Train: loss=0.16203, acc=0.94275 \n",
      "                | Valid: loss=0.86381, acc=0.79666\n"
     ]
    },
    {
     "name": "stderr",
     "output_type": "stream",
     "text": [
      "Epoch 25/50 [Training]: 100%|████████████████████████████████████████████████████████| 475/475 [04:44<00:00,  1.67it/s]\n",
      "Epoch 25/50 [Validation]: 100%|██████████████████████████████████████████████████████| 159/159 [01:33<00:00,  1.70it/s]\n"
     ]
    },
    {
     "name": "stdout",
     "output_type": "stream",
     "text": [
      "[Epoch: 025/050] Train: loss=0.17252, acc=0.94111 \n",
      "                | Valid: loss=0.89292, acc=0.78876\n"
     ]
    },
    {
     "name": "stderr",
     "output_type": "stream",
     "text": [
      "Epoch 26/50 [Training]: 100%|████████████████████████████████████████████████████████| 475/475 [04:45<00:00,  1.66it/s]\n",
      "Epoch 26/50 [Validation]: 100%|██████████████████████████████████████████████████████| 159/159 [01:33<00:00,  1.70it/s]\n"
     ]
    },
    {
     "name": "stdout",
     "output_type": "stream",
     "text": [
      "[Epoch: 026/050] Train: loss=0.15540, acc=0.94610 \n",
      "                | Valid: loss=0.93530, acc=0.77284\n"
     ]
    },
    {
     "name": "stderr",
     "output_type": "stream",
     "text": [
      "Epoch 27/50 [Training]: 100%|████████████████████████████████████████████████████████| 475/475 [04:44<00:00,  1.67it/s]\n",
      "Epoch 27/50 [Validation]: 100%|██████████████████████████████████████████████████████| 159/159 [01:32<00:00,  1.71it/s]\n"
     ]
    },
    {
     "name": "stdout",
     "output_type": "stream",
     "text": [
      "[Epoch: 027/050] Train: loss=0.14007, acc=0.95217 \n",
      "                | Valid: loss=0.86093, acc=0.80499\n"
     ]
    },
    {
     "name": "stderr",
     "output_type": "stream",
     "text": [
      "Epoch 28/50 [Training]: 100%|████████████████████████████████████████████████████████| 475/475 [04:41<00:00,  1.69it/s]\n",
      "Epoch 28/50 [Validation]: 100%|██████████████████████████████████████████████████████| 159/159 [01:32<00:00,  1.71it/s]\n"
     ]
    },
    {
     "name": "stdout",
     "output_type": "stream",
     "text": [
      "[Epoch: 028/050] Train: loss=0.14321, acc=0.95045 \n",
      "                | Valid: loss=0.90735, acc=0.78876\n"
     ]
    },
    {
     "name": "stderr",
     "output_type": "stream",
     "text": [
      "Epoch 29/50 [Training]: 100%|████████████████████████████████████████████████████████| 475/475 [04:41<00:00,  1.69it/s]\n",
      "Epoch 29/50 [Validation]: 100%|██████████████████████████████████████████████████████| 159/159 [01:31<00:00,  1.73it/s]\n"
     ]
    },
    {
     "name": "stdout",
     "output_type": "stream",
     "text": [
      "[Epoch: 029/050] Train: loss=0.13817, acc=0.95249 \n",
      "                | Valid: loss=0.93380, acc=0.79615\n"
     ]
    },
    {
     "name": "stderr",
     "output_type": "stream",
     "text": [
      "Epoch 30/50 [Training]: 100%|████████████████████████████████████████████████████████| 475/475 [04:41<00:00,  1.69it/s]\n",
      "Epoch 30/50 [Validation]: 100%|██████████████████████████████████████████████████████| 159/159 [01:32<00:00,  1.71it/s]\n"
     ]
    },
    {
     "name": "stdout",
     "output_type": "stream",
     "text": [
      "[Epoch: 030/050] Train: loss=0.14132, acc=0.95164 \n",
      "                | Valid: loss=0.90376, acc=0.78726\n"
     ]
    },
    {
     "name": "stderr",
     "output_type": "stream",
     "text": [
      "Epoch 31/50 [Training]: 100%|████████████████████████████████████████████████████████| 475/475 [04:48<00:00,  1.65it/s]\n",
      "Epoch 31/50 [Validation]: 100%|██████████████████████████████████████████████████████| 159/159 [01:32<00:00,  1.72it/s]\n"
     ]
    },
    {
     "name": "stdout",
     "output_type": "stream",
     "text": [
      "[Epoch: 031/050] Train: loss=0.13227, acc=0.95546 \n",
      "                | Valid: loss=0.93768, acc=0.79045\n"
     ]
    },
    {
     "name": "stderr",
     "output_type": "stream",
     "text": [
      "Epoch 32/50 [Training]: 100%|████████████████████████████████████████████████████████| 475/475 [04:46<00:00,  1.66it/s]\n",
      "Epoch 32/50 [Validation]: 100%|██████████████████████████████████████████████████████| 159/159 [01:34<00:00,  1.68it/s]\n"
     ]
    },
    {
     "name": "stdout",
     "output_type": "stream",
     "text": [
      "[Epoch: 032/050] Train: loss=0.12259, acc=0.95743 \n",
      "                | Valid: loss=0.92680, acc=0.80594\n"
     ]
    },
    {
     "name": "stderr",
     "output_type": "stream",
     "text": [
      "Epoch 33/50 [Training]: 100%|████████████████████████████████████████████████████████| 475/475 [04:46<00:00,  1.66it/s]\n",
      "Epoch 33/50 [Validation]: 100%|██████████████████████████████████████████████████████| 159/159 [01:32<00:00,  1.72it/s]\n"
     ]
    },
    {
     "name": "stdout",
     "output_type": "stream",
     "text": [
      "[Epoch: 033/050] Train: loss=0.11118, acc=0.96215 \n",
      "                | Valid: loss=1.41798, acc=0.68101\n"
     ]
    },
    {
     "name": "stderr",
     "output_type": "stream",
     "text": [
      "Epoch 34/50 [Training]: 100%|████████████████████████████████████████████████████████| 475/475 [04:43<00:00,  1.67it/s]\n",
      "Epoch 34/50 [Validation]: 100%|██████████████████████████████████████████████████████| 159/159 [01:32<00:00,  1.71it/s]\n"
     ]
    },
    {
     "name": "stdout",
     "output_type": "stream",
     "text": [
      "[Epoch: 034/050] Train: loss=0.11765, acc=0.96039 \n",
      "                | Valid: loss=1.03081, acc=0.76026\n"
     ]
    },
    {
     "name": "stderr",
     "output_type": "stream",
     "text": [
      "Epoch 35/50 [Training]: 100%|████████████████████████████████████████████████████████| 475/475 [04:43<00:00,  1.68it/s]\n",
      "Epoch 35/50 [Validation]: 100%|██████████████████████████████████████████████████████| 159/159 [01:32<00:00,  1.72it/s]\n"
     ]
    },
    {
     "name": "stdout",
     "output_type": "stream",
     "text": [
      "[Epoch: 035/050] Train: loss=0.11634, acc=0.96098 \n",
      "                | Valid: loss=1.04853, acc=0.78235\n"
     ]
    },
    {
     "name": "stderr",
     "output_type": "stream",
     "text": [
      "Epoch 36/50 [Training]: 100%|████████████████████████████████████████████████████████| 475/475 [04:43<00:00,  1.68it/s]\n",
      "Epoch 36/50 [Validation]: 100%|██████████████████████████████████████████████████████| 159/159 [01:32<00:00,  1.71it/s]\n"
     ]
    },
    {
     "name": "stdout",
     "output_type": "stream",
     "text": [
      "[Epoch: 036/050] Train: loss=0.11317, acc=0.96197 \n",
      "                | Valid: loss=0.95434, acc=0.79847\n"
     ]
    },
    {
     "name": "stderr",
     "output_type": "stream",
     "text": [
      "Epoch 37/50 [Training]: 100%|████████████████████████████████████████████████████████| 475/475 [04:44<00:00,  1.67it/s]\n",
      "Epoch 37/50 [Validation]: 100%|██████████████████████████████████████████████████████| 159/159 [01:33<00:00,  1.71it/s]\n"
     ]
    },
    {
     "name": "stdout",
     "output_type": "stream",
     "text": [
      "Early stopping triggered. No improvement in validation accuracy.\n",
      "Accuracy: 0.7260\n",
      "Precision: 0.7274\n",
      "Recall: 0.7308\n",
      "AUC: 0.9477\n"
     ]
    },
    {
     "data": {
      "image/png": "[encoded data removed]",
      "text/plain": [
       "<Figure size 640x480 with 2 Axes>"
      ]
     },
     "metadata": {},
     "output_type": "display_data"
    },
    {
     "data": {
      "image/png": "[encoded data removed]",
      "text/plain": [
       "<Figure size 640x480 with 1 Axes>"
      ]
     },
     "metadata": {},
     "output_type": "display_data"
    },
    {
     "data": {
      "image/png": "[encoded data removed]",
      "text/plain": [
       "<Figure size 640x480 with 1 Axes>"
      ]
     },
     "metadata": {},
     "output_type": "display_data"
    }
   ],
   "source": [
    "start_time = time.time()\n",
    "model = channelmodel\n",
    "optimizer = torch.optim.Adam(model.parameters(), lr=0.001)\n",
    "criterion = nn.CrossEntropyLoss()\n",
    "n_epochs = 50\n",
    "patience = 5\n",
    "valid_loader = aug_val_loader\n",
    "# Lists to store epoch metrics\n",
    "best_valid_acc = 0\n",
    "train_loss_epochs = []\n",
    "train_acc_epochs = []\n",
    "valid_loss_epochs = []\n",
    "valid_acc_epochs = []\n",
    "\n",
    "# Early stopping counter\n",
    "counter = 0\n",
    "\n",
    "# Lists to store true labels and predictions for confusion matrix and metrics\n",
    "all_labels = []\n",
    "all_preds = []\n",
    "all_probs = []\n",
    "\n",
    "for epoch in range(n_epochs):\n",
    "    # ---------- Training ----------\n",
    "    model.train()\n",
    "    train_loss = []\n",
    "    train_accs = []\n",
    "\n",
    "    for batch in tqdm(aug_train_loader, desc=f\"Epoch {epoch+1}/{n_epochs} [Training]\"):\n",
    "        optimizer.zero_grad()\n",
    "        imgs, labels = batch\n",
    "        imgs = imgs.to(device)\n",
    "        labels = labels.to(device)\n",
    "        logits = model(imgs)\n",
    "        loss = criterion(logits, labels)\n",
    "        loss.backward()\n",
    "        optimizer.step()\n",
    "        acc = (logits.argmax(dim=-1) == labels).float().mean()\n",
    "        train_loss.append(loss.item())\n",
    "        train_accs.append(acc.item())\n",
    "\n",
    "    train_loss = sum(train_loss) / len(train_loss)\n",
    "    train_acc = sum(train_accs) / len(train_accs)\n",
    "    train_loss_epochs.append(train_loss)\n",
    "    train_acc_epochs.append(train_acc)\n",
    "\n",
    "    # ---------- Validation ----------\n",
    "    model.eval()\n",
    "    valid_loss = []\n",
    "    valid_accs = []\n",
    "\n",
    "    # Clear lists to store labels and predictions for this epoch\n",
    "    epoch_labels = []\n",
    "    epoch_preds = []\n",
    "    epoch_probs = []\n",
    "\n",
    "    for batch in tqdm(valid_loader, desc=f\"Epoch {epoch+1}/{n_epochs} [Validation]\"):\n",
    "        imgs, labels = batch\n",
    "        imgs = imgs.to(device)\n",
    "        labels = labels.to(device)\n",
    "\n",
    "        with torch.no_grad():\n",
    "            logits = model(imgs)\n",
    "        loss = criterion(logits, labels)\n",
    "        acc = (logits.argmax(dim=-1) == labels).float().mean()\n",
    "        valid_loss.append(loss.item())\n",
    "        valid_accs.append(acc.item())\n",
    "\n",
    "        # Store predictions and labels for confusion matrix and metrics\n",
    "        epoch_preds.extend(logits.argmax(dim=-1).cpu().numpy().tolist())\n",
    "        epoch_labels.extend(labels.cpu().numpy().tolist())\n",
    "        epoch_probs.extend(torch.nn.functional.softmax(logits, dim=1).cpu().numpy().tolist())  # Collect all probabilities\n",
    "\n",
    "    valid_loss = sum(valid_loss) / len(valid_loss)\n",
    "    valid_acc = sum(valid_accs) / len(valid_accs)\n",
    "    valid_loss_epochs.append(valid_loss)\n",
    "    valid_acc_epochs.append(valid_acc)\n",
    "\n",
    "    # Update the overall lists for confusion matrix and metrics\n",
    "    all_labels.extend(epoch_labels)\n",
    "    all_preds.extend(epoch_preds)\n",
    "    all_probs.extend(epoch_probs)  # Accumulate probabilities for all classes\n",
    "\n",
    "    # Save the best model based on validation accuracy\n",
    "    if valid_acc > best_valid_acc:\n",
    "        best_valid_acc = valid_acc\n",
    "        torch.save(model.state_dict(), 'best_model.pth')\n",
    "        counter = 0  # Reset counter when there's an improvement\n",
    "    else:\n",
    "        counter += 1  # Increment counter when there's no improvement\n",
    "        if counter >= patience:\n",
    "            print(\"Early stopping triggered. No improvement in validation accuracy.\")\n",
    "            break\n",
    "\n",
    "    # Print the information\n",
    "    print(f\"\"\"[Epoch: {epoch + 1:03d}/{n_epochs:03d}] Train: loss={train_loss:.5f}, acc={train_acc:.5f} \n",
    "                | Valid: loss={valid_loss:.5f}, acc={valid_acc:.5f}\"\"\")\n",
    "\n",
    "# After training, compute metrics\n",
    "accuracy = accuracy_score(all_labels, all_preds)\n",
    "precision = precision_score(all_labels, all_preds, average='macro')  # Use 'macro' for multi-class\n",
    "recall = recall_score(all_labels, all_preds, average='macro')        # Use 'macro' for multi-class\n",
    "auc = roc_auc_score(all_labels, all_probs, multi_class='ovr')        # Use 'ovr' for multi-class AUC\n",
    "\n",
    "print(f'Accuracy: {accuracy:.4f}')\n",
    "print(f'Precision: {precision:.4f}')\n",
    "print(f'Recall: {recall:.4f}')\n",
    "print(f'AUC: {auc:.4f}')\n",
    "\n",
    "# Compute and display the confusion matrix\n",
    "cm = confusion_matrix(all_labels, all_preds)\n",
    "disp = ConfusionMatrixDisplay(confusion_matrix=cm, display_labels=class_names)\n",
    "disp.plot(cmap=plt.cm.Blues)\n",
    "plt.title(\"Confusion Matrix\")\n",
    "plt.xticks(rotation=90)\n",
    "buf_cm = plot_to_buffer()\n",
    "plt.show()  # Close the plot to free memory\n",
    "\n",
    "# Loss curves plot\n",
    "plt.figure()\n",
    "plt.plot(train_loss_epochs, label='Train Loss')\n",
    "plt.plot(valid_loss_epochs, label='Validation Loss')\n",
    "plt.xlabel('Epochs')\n",
    "plt.ylabel('Loss')\n",
    "plt.title('Train and Validation Loss')\n",
    "plt.legend()\n",
    "buf_loss = plot_to_buffer()\n",
    "plt.show()  # Close the plot to free memory\n",
    "\n",
    "# Accuracy curves plot\n",
    "plt.figure()\n",
    "plt.plot(train_acc_epochs, label='Train Accuracy')\n",
    "plt.plot(valid_acc_epochs, label='Validation Accuracy')\n",
    "plt.xlabel('Epochs')\n",
    "plt.ylabel('Accuracy')\n",
    "plt.title('Train and Validation Accuracy')\n",
    "plt.legend()\n",
    "buf_acc = plot_to_buffer()\n",
    "plt.show() "
   ]
  },
  {
   "cell_type": "code",
   "execution_count": 31,
   "id": "86324643-b4a1-42e5-920c-c17e332a6d16",
   "metadata": {},
   "outputs": [
    {
     "data": {
      "image/png": "[encoded data removed]",
      "text/plain": [
       "<Figure size 640x480 with 2 Axes>"
      ]
     },
     "metadata": {},
     "output_type": "display_data"
    },
    {
     "data": {
      "image/png": "[encoded data removed]",
      "text/plain": [
       "<Figure size 640x480 with 1 Axes>"
      ]
     },
     "metadata": {},
     "output_type": "display_data"
    },
    {
     "data": {
      "image/png": "[encoded data removed]",
      "text/plain": [
       "<Figure size 640x480 with 1 Axes>"
      ]
     },
     "metadata": {},
     "output_type": "display_data"
    }
   ],
   "source": [
    "cm = confusion_matrix(all_labels, all_preds)\n",
    "disp = ConfusionMatrixDisplay(confusion_matrix=cm, display_labels=class_names)\n",
    "disp.plot(cmap=plt.cm.Blues)\n",
    "plt.title(\"Confusion Matrix\")\n",
    "plt.xticks(rotation=90)\n",
    "plt.show()\n",
    "\n",
    "# Plotting the loss curves\n",
    "plt.figure()\n",
    "plt.plot(train_loss_epochs, label='Train Loss')\n",
    "plt.plot(valid_loss_epochs, label='Validation Loss')\n",
    "plt.xlabel('Epochs')\n",
    "plt.ylabel('Loss')\n",
    "plt.title('Train and Validation Loss')\n",
    "plt.legend()\n",
    "plt.show()\n",
    "\n",
    "# Plotting the accuracy curves\n",
    "plt.figure()\n",
    "plt.plot(train_acc_epochs, label='Train Accuracy')\n",
    "plt.plot(valid_acc_epochs, label='Validation Accuracy')\n",
    "plt.xlabel('Epochs')\n",
    "plt.ylabel('Accuracy')\n",
    "plt.title('Train and Validation Accuracy')\n",
    "plt.legend()\n",
    "plt.show()"
   ]
  },
  {
   "cell_type": "code",
   "execution_count": 32,
   "id": "9422c3ba-0541-4a15-a8e9-8be2c4e79510",
   "metadata": {},
   "outputs": [
    {
     "name": "stderr",
     "output_type": "stream",
     "text": [
      "100%|████████████████████████████████████████████████████████████████████████████████| 159/159 [01:38<00:00,  1.61it/s]"
     ]
    },
    {
     "name": "stdout",
     "output_type": "stream",
     "text": [
      "Test accuracy 0.8117674589157104\n"
     ]
    },
    {
     "name": "stderr",
     "output_type": "stream",
     "text": [
      "\n"
     ]
    }
   ],
   "source": [
    "model.load_state_dict(torch.load('best_model.pth'))\n",
    "\n",
    "# Make sure the model is in eval mode.\n",
    "# Some modules like Dropout or BatchNorm affect if the model is in training mode.\n",
    "model.eval()\n",
    "\n",
    "test_accs = []\n",
    "\n",
    "# Iterate the testing set by batches.\n",
    "for batch in tqdm(aug_test_loader):\n",
    "    # A batch consists of image data and corresponding labels.\n",
    "    imgs, labels = batch\n",
    "    imgs = imgs.to(device)\n",
    "    labels = labels.to(device)\n",
    "\n",
    "    # We don't need gradient in test\n",
    "    # Using torch.no_grad() accelerates the forward process.\n",
    "    with torch.no_grad():\n",
    "      logits = model(imgs)\n",
    "\n",
    "    # We can still compute the loss (but not the gradient).\n",
    "    loss = criterion(logits, labels)\n",
    "\n",
    "    # Compute the accuracy for current batch.\n",
    "    acc = (logits.argmax(dim=-1) == labels).float().mean()\n",
    "\n",
    "    # Record accuracy.\n",
    "    test_accs.append(acc)\n",
    "\n",
    "# The average accuracy for entire test set is the average of the recorded values.\n",
    "test_acc = sum(test_accs) / len(test_accs)\n",
    "print(f'Test accuracy {test_acc}')"
   ]
  },
  {
   "cell_type": "code",
   "execution_count": 33,
   "id": "71aaaf68-0ef9-4864-bddb-13964d4926a3",
   "metadata": {},
   "outputs": [
    {
     "name": "stdout",
     "output_type": "stream",
     "text": [
      "Email sent successfully!\n"
     ]
    }
   ],
   "source": [
    "end_time = time.time()\n",
    "elapsed_time = end_time - start_time\n",
    "formatted_time = time.strftime(\"%H:%M:%S\", time.gmtime(elapsed_time))\n",
    "\n",
    "body = f\"\"\"Channel attention CNN has completed training. \\n\n",
    "        Completed at {formatted_timestamp} \n",
    "        Time taken to run: {formatted_time}\n",
    "        Accuracy: {accuracy}\n",
    "        Precision: {precision}\n",
    "        Recall: {recall}\n",
    "        AUC: {auc}\n",
    "       Best Validation Accuracy: {max(valid_acc_epochs)}\n",
    "        Test Accuracy: {test_acc}\n",
    "        \"\"\"\n",
    "\n",
    "\n",
    "attachments = [\n",
    "    {'buffer': buf_cm, 'filename': 'confusion_matrix.png'},\n",
    "    {'buffer': buf_loss, 'filename': 'loss_curves.png'},\n",
    "    {'buffer': buf_acc, 'filename': 'accuracy_curves.png'}\n",
    "]\n",
    "\n",
    "send_email(from_address, to_address, subject, body, smtp_server, smtp_port, login, password, attachments)\n",
    "clear_cuda()"
   ]
  },
  {
   "cell_type": "markdown",
   "id": "06ecc423-d20f-406a-9ee3-ded720b13923",
   "metadata": {},
   "source": [
    "CNN with Self attention mechanism"
   ]
  },
  {
   "cell_type": "code",
   "execution_count": 36,
   "id": "8922d251-771e-4387-afce-e37f5b1ce240",
   "metadata": {},
   "outputs": [
    {
     "name": "stderr",
     "output_type": "stream",
     "text": [
      "Epoch 1/50 [Training]:   0%|                                                                   | 0/475 [00:05<?, ?it/s]\n"
     ]
    },
    {
     "ename": "OutOfMemoryError",
     "evalue": "CUDA out of memory. Tried to allocate 18.76 GiB. GPU 0 has a total capacity of 8.00 GiB of which 5.93 GiB is free. Of the allocated memory 888.25 MiB is allocated by PyTorch, and 97.75 MiB is reserved by PyTorch but unallocated. If reserved but unallocated memory is large try setting PYTORCH_CUDA_ALLOC_CONF=expandable_segments:True to avoid fragmentation.  See documentation for Memory Management  (https://pytorch.org/docs/stable/notes/cuda.html#environment-variables)",
     "output_type": "error",
     "traceback": [
      "\u001b[1;31m---------------------------------------------------------------------------\u001b[0m",
      "\u001b[1;31mOutOfMemoryError\u001b[0m                          Traceback (most recent call last)",
      "Cell \u001b[1;32mIn[36], line 34\u001b[0m\n\u001b[0;32m     32\u001b[0m imgs \u001b[38;5;241m=\u001b[39m imgs\u001b[38;5;241m.\u001b[39mto(device)\n\u001b[0;32m     33\u001b[0m labels \u001b[38;5;241m=\u001b[39m labels\u001b[38;5;241m.\u001b[39mto(device)\n\u001b[1;32m---> 34\u001b[0m logits \u001b[38;5;241m=\u001b[39m model(imgs)\n\u001b[0;32m     35\u001b[0m loss \u001b[38;5;241m=\u001b[39m criterion(logits, labels)\n\u001b[0;32m     36\u001b[0m loss\u001b[38;5;241m.\u001b[39mbackward()\n",
      "File \u001b[1;32m~\\anaconda3\\Lib\\site-packages\\torch\\nn\\modules\\module.py:1511\u001b[0m, in \u001b[0;36mModule._wrapped_call_impl\u001b[1;34m(self, *args, **kwargs)\u001b[0m\n\u001b[0;32m   1509\u001b[0m     \u001b[38;5;28;01mreturn\u001b[39;00m \u001b[38;5;28mself\u001b[39m\u001b[38;5;241m.\u001b[39m_compiled_call_impl(\u001b[38;5;241m*\u001b[39margs, \u001b[38;5;241m*\u001b[39m\u001b[38;5;241m*\u001b[39mkwargs)  \u001b[38;5;66;03m# type: ignore[misc]\u001b[39;00m\n\u001b[0;32m   1510\u001b[0m \u001b[38;5;28;01melse\u001b[39;00m:\n\u001b[1;32m-> 1511\u001b[0m     \u001b[38;5;28;01mreturn\u001b[39;00m \u001b[38;5;28mself\u001b[39m\u001b[38;5;241m.\u001b[39m_call_impl(\u001b[38;5;241m*\u001b[39margs, \u001b[38;5;241m*\u001b[39m\u001b[38;5;241m*\u001b[39mkwargs)\n",
      "File \u001b[1;32m~\\anaconda3\\Lib\\site-packages\\torch\\nn\\modules\\module.py:1520\u001b[0m, in \u001b[0;36mModule._call_impl\u001b[1;34m(self, *args, **kwargs)\u001b[0m\n\u001b[0;32m   1515\u001b[0m \u001b[38;5;66;03m# If we don't have any hooks, we want to skip the rest of the logic in\u001b[39;00m\n\u001b[0;32m   1516\u001b[0m \u001b[38;5;66;03m# this function, and just call forward.\u001b[39;00m\n\u001b[0;32m   1517\u001b[0m \u001b[38;5;28;01mif\u001b[39;00m \u001b[38;5;129;01mnot\u001b[39;00m (\u001b[38;5;28mself\u001b[39m\u001b[38;5;241m.\u001b[39m_backward_hooks \u001b[38;5;129;01mor\u001b[39;00m \u001b[38;5;28mself\u001b[39m\u001b[38;5;241m.\u001b[39m_backward_pre_hooks \u001b[38;5;129;01mor\u001b[39;00m \u001b[38;5;28mself\u001b[39m\u001b[38;5;241m.\u001b[39m_forward_hooks \u001b[38;5;129;01mor\u001b[39;00m \u001b[38;5;28mself\u001b[39m\u001b[38;5;241m.\u001b[39m_forward_pre_hooks\n\u001b[0;32m   1518\u001b[0m         \u001b[38;5;129;01mor\u001b[39;00m _global_backward_pre_hooks \u001b[38;5;129;01mor\u001b[39;00m _global_backward_hooks\n\u001b[0;32m   1519\u001b[0m         \u001b[38;5;129;01mor\u001b[39;00m _global_forward_hooks \u001b[38;5;129;01mor\u001b[39;00m _global_forward_pre_hooks):\n\u001b[1;32m-> 1520\u001b[0m     \u001b[38;5;28;01mreturn\u001b[39;00m forward_call(\u001b[38;5;241m*\u001b[39margs, \u001b[38;5;241m*\u001b[39m\u001b[38;5;241m*\u001b[39mkwargs)\n\u001b[0;32m   1522\u001b[0m \u001b[38;5;28;01mtry\u001b[39;00m:\n\u001b[0;32m   1523\u001b[0m     result \u001b[38;5;241m=\u001b[39m \u001b[38;5;28;01mNone\u001b[39;00m\n",
      "Cell \u001b[1;32mIn[35], line 66\u001b[0m, in \u001b[0;36mselfAttentionCNN.forward\u001b[1;34m(self, x)\u001b[0m\n\u001b[0;32m     64\u001b[0m \u001b[38;5;28;01mdef\u001b[39;00m \u001b[38;5;21mforward\u001b[39m(\u001b[38;5;28mself\u001b[39m, x):\n\u001b[0;32m     65\u001b[0m     x \u001b[38;5;241m=\u001b[39m \u001b[38;5;28mself\u001b[39m\u001b[38;5;241m.\u001b[39mconv_layers[\u001b[38;5;241m0\u001b[39m:\u001b[38;5;241m3\u001b[39m](x)\n\u001b[1;32m---> 66\u001b[0m     x \u001b[38;5;241m=\u001b[39m \u001b[38;5;28mself\u001b[39m\u001b[38;5;241m.\u001b[39mattention_layers[\u001b[38;5;241m0\u001b[39m](x)\n\u001b[0;32m     67\u001b[0m     x \u001b[38;5;241m=\u001b[39m \u001b[38;5;28mself\u001b[39m\u001b[38;5;241m.\u001b[39mconv_layers[\u001b[38;5;241m3\u001b[39m:\u001b[38;5;241m6\u001b[39m](x)\n\u001b[0;32m     68\u001b[0m     x \u001b[38;5;241m=\u001b[39m \u001b[38;5;28mself\u001b[39m\u001b[38;5;241m.\u001b[39mattention_layers[\u001b[38;5;241m1\u001b[39m](x)\n",
      "File \u001b[1;32m~\\anaconda3\\Lib\\site-packages\\torch\\nn\\modules\\module.py:1511\u001b[0m, in \u001b[0;36mModule._wrapped_call_impl\u001b[1;34m(self, *args, **kwargs)\u001b[0m\n\u001b[0;32m   1509\u001b[0m     \u001b[38;5;28;01mreturn\u001b[39;00m \u001b[38;5;28mself\u001b[39m\u001b[38;5;241m.\u001b[39m_compiled_call_impl(\u001b[38;5;241m*\u001b[39margs, \u001b[38;5;241m*\u001b[39m\u001b[38;5;241m*\u001b[39mkwargs)  \u001b[38;5;66;03m# type: ignore[misc]\u001b[39;00m\n\u001b[0;32m   1510\u001b[0m \u001b[38;5;28;01melse\u001b[39;00m:\n\u001b[1;32m-> 1511\u001b[0m     \u001b[38;5;28;01mreturn\u001b[39;00m \u001b[38;5;28mself\u001b[39m\u001b[38;5;241m.\u001b[39m_call_impl(\u001b[38;5;241m*\u001b[39margs, \u001b[38;5;241m*\u001b[39m\u001b[38;5;241m*\u001b[39mkwargs)\n",
      "File \u001b[1;32m~\\anaconda3\\Lib\\site-packages\\torch\\nn\\modules\\module.py:1520\u001b[0m, in \u001b[0;36mModule._call_impl\u001b[1;34m(self, *args, **kwargs)\u001b[0m\n\u001b[0;32m   1515\u001b[0m \u001b[38;5;66;03m# If we don't have any hooks, we want to skip the rest of the logic in\u001b[39;00m\n\u001b[0;32m   1516\u001b[0m \u001b[38;5;66;03m# this function, and just call forward.\u001b[39;00m\n\u001b[0;32m   1517\u001b[0m \u001b[38;5;28;01mif\u001b[39;00m \u001b[38;5;129;01mnot\u001b[39;00m (\u001b[38;5;28mself\u001b[39m\u001b[38;5;241m.\u001b[39m_backward_hooks \u001b[38;5;129;01mor\u001b[39;00m \u001b[38;5;28mself\u001b[39m\u001b[38;5;241m.\u001b[39m_backward_pre_hooks \u001b[38;5;129;01mor\u001b[39;00m \u001b[38;5;28mself\u001b[39m\u001b[38;5;241m.\u001b[39m_forward_hooks \u001b[38;5;129;01mor\u001b[39;00m \u001b[38;5;28mself\u001b[39m\u001b[38;5;241m.\u001b[39m_forward_pre_hooks\n\u001b[0;32m   1518\u001b[0m         \u001b[38;5;129;01mor\u001b[39;00m _global_backward_pre_hooks \u001b[38;5;129;01mor\u001b[39;00m _global_backward_hooks\n\u001b[0;32m   1519\u001b[0m         \u001b[38;5;129;01mor\u001b[39;00m _global_forward_hooks \u001b[38;5;129;01mor\u001b[39;00m _global_forward_pre_hooks):\n\u001b[1;32m-> 1520\u001b[0m     \u001b[38;5;28;01mreturn\u001b[39;00m forward_call(\u001b[38;5;241m*\u001b[39margs, \u001b[38;5;241m*\u001b[39m\u001b[38;5;241m*\u001b[39mkwargs)\n\u001b[0;32m   1522\u001b[0m \u001b[38;5;28;01mtry\u001b[39;00m:\n\u001b[0;32m   1523\u001b[0m     result \u001b[38;5;241m=\u001b[39m \u001b[38;5;28;01mNone\u001b[39;00m\n",
      "Cell \u001b[1;32mIn[35], line 15\u001b[0m, in \u001b[0;36mSelfAttention.forward\u001b[1;34m(self, x)\u001b[0m\n\u001b[0;32m     13\u001b[0m proj_query \u001b[38;5;241m=\u001b[39m \u001b[38;5;28mself\u001b[39m\u001b[38;5;241m.\u001b[39mquery_conv(x)\u001b[38;5;241m.\u001b[39mview(batch_size, \u001b[38;5;241m-\u001b[39m\u001b[38;5;241m1\u001b[39m, width \u001b[38;5;241m*\u001b[39m height)\u001b[38;5;241m.\u001b[39mpermute(\u001b[38;5;241m0\u001b[39m, \u001b[38;5;241m2\u001b[39m, \u001b[38;5;241m1\u001b[39m)\n\u001b[0;32m     14\u001b[0m proj_key \u001b[38;5;241m=\u001b[39m \u001b[38;5;28mself\u001b[39m\u001b[38;5;241m.\u001b[39mkey_conv(x)\u001b[38;5;241m.\u001b[39mview(batch_size, \u001b[38;5;241m-\u001b[39m\u001b[38;5;241m1\u001b[39m, width \u001b[38;5;241m*\u001b[39m height)\n\u001b[1;32m---> 15\u001b[0m energy \u001b[38;5;241m=\u001b[39m torch\u001b[38;5;241m.\u001b[39mbmm(proj_query, proj_key)\n\u001b[0;32m     16\u001b[0m attention \u001b[38;5;241m=\u001b[39m \u001b[38;5;28mself\u001b[39m\u001b[38;5;241m.\u001b[39msoftmax(energy)\n\u001b[0;32m     17\u001b[0m proj_value \u001b[38;5;241m=\u001b[39m \u001b[38;5;28mself\u001b[39m\u001b[38;5;241m.\u001b[39mvalue_conv(x)\u001b[38;5;241m.\u001b[39mview(batch_size, \u001b[38;5;241m-\u001b[39m\u001b[38;5;241m1\u001b[39m, width \u001b[38;5;241m*\u001b[39m height)\n",
      "\u001b[1;31mOutOfMemoryError\u001b[0m: CUDA out of memory. Tried to allocate 18.76 GiB. GPU 0 has a total capacity of 8.00 GiB of which 5.93 GiB is free. Of the allocated memory 888.25 MiB is allocated by PyTorch, and 97.75 MiB is reserved by PyTorch but unallocated. If reserved but unallocated memory is large try setting PYTORCH_CUDA_ALLOC_CONF=expandable_segments:True to avoid fragmentation.  See documentation for Memory Management  (https://pytorch.org/docs/stable/notes/cuda.html#environment-variables)"
     ]
    }
   ],
   "source": [
    "# Training parameters\n",
    "start_time = time.time()\n",
    "model = selfmodel\n",
    "optimizer = torch.optim.Adam(model.parameters(), lr=0.001)\n",
    "n_epochs = 50\n",
    "patience = 5\n",
    "valid_loader = aug_val_loader\n",
    "# Lists to store epoch metrics\n",
    "best_valid_acc = 0\n",
    "train_loss_epochs = []\n",
    "train_acc_epochs = []\n",
    "valid_loss_epochs = []\n",
    "valid_acc_epochs = []\n",
    "\n",
    "# Early stopping counter\n",
    "counter = 0\n",
    "\n",
    "# Lists to store true labels and predictions for confusion matrix and metrics\n",
    "all_labels = []\n",
    "all_preds = []\n",
    "all_probs = []\n",
    "\n",
    "for epoch in range(n_epochs):\n",
    "    # ---------- Training ----------\n",
    "    model.train()\n",
    "    train_loss = []\n",
    "    train_accs = []\n",
    "\n",
    "    for batch in tqdm(aug_train_loader, desc=f\"Epoch {epoch+1}/{n_epochs} [Training]\"):\n",
    "        optimizer.zero_grad()\n",
    "        imgs, labels = batch\n",
    "        imgs = imgs.to(device)\n",
    "        labels = labels.to(device)\n",
    "        logits = model(imgs)\n",
    "        loss = criterion(logits, labels)\n",
    "        loss.backward()\n",
    "        optimizer.step()\n",
    "        acc = (logits.argmax(dim=-1) == labels).float().mean()\n",
    "        train_loss.append(loss.item())\n",
    "        train_accs.append(acc.item())\n",
    "\n",
    "    train_loss = sum(train_loss) / len(train_loss)\n",
    "    train_acc = sum(train_accs) / len(train_accs)\n",
    "    train_loss_epochs.append(train_loss)\n",
    "    train_acc_epochs.append(train_acc)\n",
    "\n",
    "    # ---------- Validation ----------\n",
    "    model.eval()\n",
    "    valid_loss = []\n",
    "    valid_accs = []\n",
    "\n",
    "    # Clear lists to store labels and predictions for this epoch\n",
    "    epoch_labels = []\n",
    "    epoch_preds = []\n",
    "    epoch_probs = []\n",
    "\n",
    "    for batch in tqdm(valid_loader, desc=f\"Epoch {epoch+1}/{n_epochs} [Validation]\"):\n",
    "        imgs, labels = batch\n",
    "        imgs = imgs.to(device)\n",
    "        labels = labels.to(device)\n",
    "\n",
    "        with torch.no_grad():\n",
    "            logits = model(imgs)\n",
    "        loss = criterion(logits, labels)\n",
    "        acc = (logits.argmax(dim=-1) == labels).float().mean()\n",
    "        valid_loss.append(loss.item())\n",
    "        valid_accs.append(acc.item())\n",
    "\n",
    "        # Store predictions and labels for confusion matrix and metrics\n",
    "        epoch_preds.extend(logits.argmax(dim=-1).cpu().numpy().tolist())\n",
    "        epoch_labels.extend(labels.cpu().numpy().tolist())\n",
    "        epoch_probs.extend(torch.nn.functional.softmax(logits, dim=1).cpu().numpy().tolist())  # Collect all probabilities\n",
    "\n",
    "    valid_loss = sum(valid_loss) / len(valid_loss)\n",
    "    valid_acc = sum(valid_accs) / len(valid_accs)\n",
    "    valid_loss_epochs.append(valid_loss)\n",
    "    valid_acc_epochs.append(valid_acc)\n",
    "\n",
    "    # Update the overall lists for confusion matrix and metrics\n",
    "    all_labels.extend(epoch_labels)\n",
    "    all_preds.extend(epoch_preds)\n",
    "    all_probs.extend(epoch_probs)  # Accumulate probabilities for all classes\n",
    "\n",
    "    # Save the best model based on validation accuracy\n",
    "    if valid_acc > best_valid_acc:\n",
    "        best_valid_acc = valid_acc\n",
    "        torch.save(model.state_dict(), 'best_model.pth')\n",
    "        counter = 0  # Reset counter when there's an improvement\n",
    "    else:\n",
    "        counter += 1  # Increment counter when there's no improvement\n",
    "        if counter >= patience:\n",
    "            print(\"Early stopping triggered. No improvement in validation accuracy.\")\n",
    "            break\n",
    "\n",
    "    # Print the information\n",
    "    print(f\"\"\"[Epoch: {epoch + 1:03d}/{n_epochs:03d}] Train: loss={train_loss:.5f}, acc={train_acc:.5f} \n",
    "                | Valid: loss={valid_loss:.5f}, acc={valid_acc:.5f}\"\"\")\n",
    "\n",
    "# After training, compute metrics\n",
    "accuracy = accuracy_score(all_labels, all_preds)\n",
    "precision = precision_score(all_labels, all_preds, average='macro')  # Use 'macro' for multi-class\n",
    "recall = recall_score(all_labels, all_preds, average='macro')        # Use 'macro' for multi-class\n",
    "auc = roc_auc_score(all_labels, all_probs, multi_class='ovr')        # Use 'ovr' for multi-class AUC\n",
    "\n",
    "print(f'Accuracy: {accuracy:.4f}')\n",
    "print(f'Precision: {precision:.4f}')\n",
    "print(f'Recall: {recall:.4f}')\n",
    "print(f'AUC: {auc:.4f}')\n",
    "\n",
    "# Compute and display the confusion matrix\n",
    "cm = confusion_matrix(all_labels, all_preds)\n",
    "disp = ConfusionMatrixDisplay(confusion_matrix=cm, display_labels=class_names)\n",
    "disp.plot(cmap=plt.cm.Blues)\n",
    "plt.title(\"Confusion Matrix\")\n",
    "plt.xticks(rotation=90)\n",
    "buf_cm = plot_to_buffer()\n",
    "plt.close()  # Close the plot to free memory\n",
    "\n",
    "# Loss curves plot\n",
    "plt.figure()\n",
    "plt.plot(train_loss_epochs, label='Train Loss')\n",
    "plt.plot(valid_loss_epochs, label='Validation Loss')\n",
    "plt.xlabel('Epochs')\n",
    "plt.ylabel('Loss')\n",
    "plt.title('Train and Validation Loss')\n",
    "plt.legend()\n",
    "buf_loss = plot_to_buffer()\n",
    "plt.close()  # Close the plot to free memory\n",
    "\n",
    "# Accuracy curves plot\n",
    "plt.figure()\n",
    "plt.plot(train_acc_epochs, label='Train Accuracy')\n",
    "plt.plot(valid_acc_epochs, label='Validation Accuracy')\n",
    "plt.xlabel('Epochs')\n",
    "plt.ylabel('Accuracy')\n",
    "plt.title('Train and Validation Accuracy')\n",
    "plt.legend()\n",
    "buf_acc = plot_to_buffer()\n",
    "plt.close() "
   ]
  },
  {
   "cell_type": "code",
   "execution_count": null,
   "id": "ba4d183d-42ad-45cd-81ce-497973a97b9d",
   "metadata": {},
   "outputs": [],
   "source": [
    "model.load_state_dict(torch.load('best_model.pth'))\n",
    "\n",
    "# Make sure the model is in eval mode.\n",
    "# Some modules like Dropout or BatchNorm affect if the model is in training mode.\n",
    "model.eval()\n",
    "\n",
    "test_accs = []\n",
    "\n",
    "# Iterate the testing set by batches.\n",
    "for batch in tqdm(aug_test_loader):\n",
    "    # A batch consists of image data and corresponding labels.\n",
    "    imgs, labels = batch\n",
    "    imgs = imgs.to(device)\n",
    "    labels = labels.to(device)\n",
    "\n",
    "    # We don't need gradient in test\n",
    "    # Using torch.no_grad() accelerates the forward process.\n",
    "    with torch.no_grad():\n",
    "      logits = model(imgs)\n",
    "\n",
    "    # We can still compute the loss (but not the gradient).\n",
    "    loss = criterion(logits, labels)\n",
    "\n",
    "    # Compute the accuracy for current batch.\n",
    "    acc = (logits.argmax(dim=-1) == labels).float().mean()\n",
    "\n",
    "    # Record accuracy.\n",
    "    test_accs.append(acc)\n",
    "\n",
    "# The average accuracy for entire test set is the average of the recorded values.\n",
    "test_acc = sum(test_accs) / len(test_accs)\n",
    "print(f'Test accuracy {test_acc}')"
   ]
  },
  {
   "cell_type": "code",
   "execution_count": null,
   "id": "94f80cd3-2caa-46f4-9b9f-f02535c828dc",
   "metadata": {},
   "outputs": [],
   "source": [
    "end_time = time.time()\n",
    "elapsed_time = end_time - start_time\n",
    "formatted_time = time.strftime(\"%H:%M:%S\", time.gmtime(elapsed_time))\n",
    "\n",
    "body = f\"\"\"Self attention CNN has completed training. \\n\n",
    "        Completed at {formatted_timestamp} \n",
    "        Time taken to run: {formatted_time}\n",
    "        Accuracy: {accuracy}\n",
    "        Precision: {precision}\n",
    "        Recall: {recall}\n",
    "        AUC: {auc}\n",
    "        Best Validation Accuracy: {max(valid_acc_epochs)}\n",
    "        Test Accuracy: {test_acc}\n",
    "        \"\"\"\n",
    "\n",
    "\n",
    "attachments = [\n",
    "    {'buffer': buf_cm, 'filename': 'confusion_matrix.png'},\n",
    "    {'buffer': buf_loss, 'filename': 'loss_curves.png'},\n",
    "    {'buffer': buf_acc, 'filename': 'accuracy_curves.png'}\n",
    "]\n",
    "\n",
    "send_email(from_address, to_address, subject, body, smtp_server, smtp_port, login, password, attachments)\n",
    "clear_cuda()"
   ]
  },
  {
   "cell_type": "code",
   "execution_count": null,
   "id": "3c72d347-bfc3-4801-8976-deda236075fc",
   "metadata": {},
   "outputs": [],
   "source": [
    "clear_cuda()"
   ]
  },
  {
   "cell_type": "code",
   "execution_count": null,
   "id": "76e0ecd1-83e7-4886-a393-ddab6ea4dce9",
   "metadata": {},
   "outputs": [],
   "source": []
  }
 ],
 "metadata": {
  "kernelspec": {
   "display_name": "Python 3 (ipykernel)",
   "language": "python",
   "name": "python3"
  },
  "language_info": {
   "codemirror_mode": {
    "name": "ipython",
    "version": 3
   },
   "file_extension": ".py",
   "mimetype": "text/x-python",
   "name": "python",
   "nbconvert_exporter": "python",
   "pygments_lexer": "ipython3",
   "version": "3.11.7"
  }
 },
 "nbformat": 4,
 "nbformat_minor": 5
}
